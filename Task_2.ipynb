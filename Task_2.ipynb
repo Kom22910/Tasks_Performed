{
  "nbformat": 4,
  "nbformat_minor": 0,
  "metadata": {
    "colab": {
      "provenance": []
    },
    "kernelspec": {
      "name": "python3",
      "display_name": "Python 3"
    },
    "language_info": {
      "name": "python"
    }
  },
  "cells": [
    {
      "cell_type": "markdown",
      "source": [
        "# **KPMG VIRTUAL INTERNSHIP PROJECT**"
      ],
      "metadata": {
        "id": "NpINR8kxKCOA"
      }
    },
    {
      "cell_type": "markdown",
      "source": [
        "## **Task 1: Data Quality Assessment :**\n",
        "![image.png](data:image/png;base64,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)\n",
        "\n",
        "**The client provided KPMG with 3 datasets:**\n",
        "\n",
        "1.   Customer Demographic\n",
        "2.   Customer Addresses\n",
        "\n",
        "3.   Transactions data in the past 3 months\n",
        "\n"
      ],
      "metadata": {
        "id": "bSdLM_LFJtRo"
      }
    },
    {
      "cell_type": "code",
      "execution_count": null,
      "metadata": {
        "id": "dM2-sGKPF2sd"
      },
      "outputs": [],
      "source": [
        "import pandas as pd\n",
        "import numpy as np"
      ]
    },
    {
      "cell_type": "markdown",
      "source": [
        "### **Reading Excel file**"
      ],
      "metadata": {
        "id": "EWTP4SrhMUJh"
      }
    },
    {
      "cell_type": "code",
      "source": [
        "df = pd.ExcelFile(\"KPMG_VI_New_raw_data_update_final_.xlsx\")"
      ],
      "metadata": {
        "id": "mB-m_BK8LnWq"
      },
      "execution_count": null,
      "outputs": []
    },
    {
      "cell_type": "markdown",
      "source": [
        "### **Reading files separately inside Excel file**"
      ],
      "metadata": {
        "id": "vAEQNL-GMh1A"
      }
    },
    {
      "cell_type": "code",
      "source": [
        "transaction = pd.read_excel(df, \"Transactions\")\n",
        "\n",
        "new_customer = pd.read_excel(df,\"NewCustomerList\")\n",
        "\n",
        "customer_demographic = pd.read_excel(df,\"CustomerDemographic\")\n",
        "\n",
        "customer_address = pd.read_excel(df,\"CustomerAddress\")"
      ],
      "metadata": {
        "id": "K7ehgBWRMdHy",
        "colab": {
          "base_uri": "https://localhost:8080/"
        },
        "outputId": "898fd494-6f8f-4150-9d70-fea5feea9e97"
      },
      "execution_count": null,
      "outputs": [
        {
          "output_type": "stream",
          "name": "stderr",
          "text": [
            "<ipython-input-81-450bac97d697>:3: FutureWarning: Inferring datetime64[ns] from data containing strings is deprecated and will be removed in a future version. To retain the old behavior explicitly pass Series(data, dtype=datetime64[ns])\n",
            "  new_customer = pd.read_excel(df,\"NewCustomerList\")\n",
            "<ipython-input-81-450bac97d697>:5: FutureWarning: Inferring datetime64[ns] from data containing strings is deprecated and will be removed in a future version. To retain the old behavior explicitly pass Series(data, dtype=datetime64[ns])\n",
            "  customer_demographic = pd.read_excel(df,\"CustomerDemographic\")\n"
          ]
        }
      ]
    },
    {
      "cell_type": "markdown",
      "source": [
        "# **Exploring Transactions dataset**"
      ],
      "metadata": {
        "id": "0_2VCWPsXl4L"
      }
    },
    {
      "cell_type": "code",
      "source": [
        "transaction.shape"
      ],
      "metadata": {
        "colab": {
          "base_uri": "https://localhost:8080/"
        },
        "id": "8IxMKkm4X1ns",
        "outputId": "510c3116-63be-4444-b242-b4690da4d6e2"
      },
      "execution_count": null,
      "outputs": [
        {
          "output_type": "execute_result",
          "data": {
            "text/plain": [
              "(20000, 13)"
            ]
          },
          "metadata": {},
          "execution_count": 82
        }
      ]
    },
    {
      "cell_type": "code",
      "source": [
        "transaction.columns"
      ],
      "metadata": {
        "colab": {
          "base_uri": "https://localhost:8080/"
        },
        "id": "uyxaVjfDX6yE",
        "outputId": "d03ba4a0-f03a-4a7b-86cd-e6eb44b6dd58"
      },
      "execution_count": null,
      "outputs": [
        {
          "output_type": "execute_result",
          "data": {
            "text/plain": [
              "Index(['transaction_id', 'product_id', 'customer_id', 'transaction_date',\n",
              "       'online_order', 'order_status', 'brand', 'product_line',\n",
              "       'product_class', 'product_size', 'list_price', 'standard_cost',\n",
              "       'product_first_sold_date'],\n",
              "      dtype='object')"
            ]
          },
          "metadata": {},
          "execution_count": 83
        }
      ]
    },
    {
      "cell_type": "code",
      "source": [
        "transaction.head()"
      ],
      "metadata": {
        "colab": {
          "base_uri": "https://localhost:8080/",
          "height": 296
        },
        "id": "xMsJ_7QuX_zj",
        "outputId": "aa1c25b4-014f-449d-880b-430161a70bab"
      },
      "execution_count": null,
      "outputs": [
        {
          "output_type": "execute_result",
          "data": {
            "text/plain": [
              "   transaction_id  product_id  customer_id transaction_date  online_order  \\\n",
              "0               1           2         2950       2017-02-25           0.0   \n",
              "1               2           3         3120       2017-05-21           1.0   \n",
              "2               3          37          402       2017-10-16           0.0   \n",
              "3               4          88         3135       2017-08-31           0.0   \n",
              "4               5          78          787       2017-10-01           1.0   \n",
              "\n",
              "  order_status           brand product_line product_class product_size  \\\n",
              "0     Approved           Solex     Standard        medium       medium   \n",
              "1     Approved   Trek Bicycles     Standard        medium        large   \n",
              "2     Approved      OHM Cycles     Standard           low       medium   \n",
              "3     Approved  Norco Bicycles     Standard        medium       medium   \n",
              "4     Approved  Giant Bicycles     Standard        medium        large   \n",
              "\n",
              "   list_price  standard_cost  product_first_sold_date  \n",
              "0       71.49          53.62                  41245.0  \n",
              "1     2091.47         388.92                  41701.0  \n",
              "2     1793.43         248.82                  36361.0  \n",
              "3     1198.46         381.10                  36145.0  \n",
              "4     1765.30         709.48                  42226.0  "
            ],
            "text/html": [
              "\n",
              "  <div id=\"df-5c843849-2968-437f-bd13-0e68f81f966e\" class=\"colab-df-container\">\n",
              "    <div>\n",
              "<style scoped>\n",
              "    .dataframe tbody tr th:only-of-type {\n",
              "        vertical-align: middle;\n",
              "    }\n",
              "\n",
              "    .dataframe tbody tr th {\n",
              "        vertical-align: top;\n",
              "    }\n",
              "\n",
              "    .dataframe thead th {\n",
              "        text-align: right;\n",
              "    }\n",
              "</style>\n",
              "<table border=\"1\" class=\"dataframe\">\n",
              "  <thead>\n",
              "    <tr style=\"text-align: right;\">\n",
              "      <th></th>\n",
              "      <th>transaction_id</th>\n",
              "      <th>product_id</th>\n",
              "      <th>customer_id</th>\n",
              "      <th>transaction_date</th>\n",
              "      <th>online_order</th>\n",
              "      <th>order_status</th>\n",
              "      <th>brand</th>\n",
              "      <th>product_line</th>\n",
              "      <th>product_class</th>\n",
              "      <th>product_size</th>\n",
              "      <th>list_price</th>\n",
              "      <th>standard_cost</th>\n",
              "      <th>product_first_sold_date</th>\n",
              "    </tr>\n",
              "  </thead>\n",
              "  <tbody>\n",
              "    <tr>\n",
              "      <th>0</th>\n",
              "      <td>1</td>\n",
              "      <td>2</td>\n",
              "      <td>2950</td>\n",
              "      <td>2017-02-25</td>\n",
              "      <td>0.0</td>\n",
              "      <td>Approved</td>\n",
              "      <td>Solex</td>\n",
              "      <td>Standard</td>\n",
              "      <td>medium</td>\n",
              "      <td>medium</td>\n",
              "      <td>71.49</td>\n",
              "      <td>53.62</td>\n",
              "      <td>41245.0</td>\n",
              "    </tr>\n",
              "    <tr>\n",
              "      <th>1</th>\n",
              "      <td>2</td>\n",
              "      <td>3</td>\n",
              "      <td>3120</td>\n",
              "      <td>2017-05-21</td>\n",
              "      <td>1.0</td>\n",
              "      <td>Approved</td>\n",
              "      <td>Trek Bicycles</td>\n",
              "      <td>Standard</td>\n",
              "      <td>medium</td>\n",
              "      <td>large</td>\n",
              "      <td>2091.47</td>\n",
              "      <td>388.92</td>\n",
              "      <td>41701.0</td>\n",
              "    </tr>\n",
              "    <tr>\n",
              "      <th>2</th>\n",
              "      <td>3</td>\n",
              "      <td>37</td>\n",
              "      <td>402</td>\n",
              "      <td>2017-10-16</td>\n",
              "      <td>0.0</td>\n",
              "      <td>Approved</td>\n",
              "      <td>OHM Cycles</td>\n",
              "      <td>Standard</td>\n",
              "      <td>low</td>\n",
              "      <td>medium</td>\n",
              "      <td>1793.43</td>\n",
              "      <td>248.82</td>\n",
              "      <td>36361.0</td>\n",
              "    </tr>\n",
              "    <tr>\n",
              "      <th>3</th>\n",
              "      <td>4</td>\n",
              "      <td>88</td>\n",
              "      <td>3135</td>\n",
              "      <td>2017-08-31</td>\n",
              "      <td>0.0</td>\n",
              "      <td>Approved</td>\n",
              "      <td>Norco Bicycles</td>\n",
              "      <td>Standard</td>\n",
              "      <td>medium</td>\n",
              "      <td>medium</td>\n",
              "      <td>1198.46</td>\n",
              "      <td>381.10</td>\n",
              "      <td>36145.0</td>\n",
              "    </tr>\n",
              "    <tr>\n",
              "      <th>4</th>\n",
              "      <td>5</td>\n",
              "      <td>78</td>\n",
              "      <td>787</td>\n",
              "      <td>2017-10-01</td>\n",
              "      <td>1.0</td>\n",
              "      <td>Approved</td>\n",
              "      <td>Giant Bicycles</td>\n",
              "      <td>Standard</td>\n",
              "      <td>medium</td>\n",
              "      <td>large</td>\n",
              "      <td>1765.30</td>\n",
              "      <td>709.48</td>\n",
              "      <td>42226.0</td>\n",
              "    </tr>\n",
              "  </tbody>\n",
              "</table>\n",
              "</div>\n",
              "    <div class=\"colab-df-buttons\">\n",
              "\n",
              "  <div class=\"colab-df-container\">\n",
              "    <button class=\"colab-df-convert\" onclick=\"convertToInteractive('df-5c843849-2968-437f-bd13-0e68f81f966e')\"\n",
              "            title=\"Convert this dataframe to an interactive table.\"\n",
              "            style=\"display:none;\">\n",
              "\n",
              "  <svg xmlns=\"http://www.w3.org/2000/svg\" height=\"24px\" viewBox=\"0 -960 960 960\">\n",
              "    <path d=\"M120-120v-720h720v720H120Zm60-500h600v-160H180v160Zm220 220h160v-160H400v160Zm0 220h160v-160H400v160ZM180-400h160v-160H180v160Zm440 0h160v-160H620v160ZM180-180h160v-160H180v160Zm440 0h160v-160H620v160Z\"/>\n",
              "  </svg>\n",
              "    </button>\n",
              "\n",
              "  <style>\n",
              "    .colab-df-container {\n",
              "      display:flex;\n",
              "      gap: 12px;\n",
              "    }\n",
              "\n",
              "    .colab-df-convert {\n",
              "      background-color: #E8F0FE;\n",
              "      border: none;\n",
              "      border-radius: 50%;\n",
              "      cursor: pointer;\n",
              "      display: none;\n",
              "      fill: #1967D2;\n",
              "      height: 32px;\n",
              "      padding: 0 0 0 0;\n",
              "      width: 32px;\n",
              "    }\n",
              "\n",
              "    .colab-df-convert:hover {\n",
              "      background-color: #E2EBFA;\n",
              "      box-shadow: 0px 1px 2px rgba(60, 64, 67, 0.3), 0px 1px 3px 1px rgba(60, 64, 67, 0.15);\n",
              "      fill: #174EA6;\n",
              "    }\n",
              "\n",
              "    .colab-df-buttons div {\n",
              "      margin-bottom: 4px;\n",
              "    }\n",
              "\n",
              "    [theme=dark] .colab-df-convert {\n",
              "      background-color: #3B4455;\n",
              "      fill: #D2E3FC;\n",
              "    }\n",
              "\n",
              "    [theme=dark] .colab-df-convert:hover {\n",
              "      background-color: #434B5C;\n",
              "      box-shadow: 0px 1px 3px 1px rgba(0, 0, 0, 0.15);\n",
              "      filter: drop-shadow(0px 1px 2px rgba(0, 0, 0, 0.3));\n",
              "      fill: #FFFFFF;\n",
              "    }\n",
              "  </style>\n",
              "\n",
              "    <script>\n",
              "      const buttonEl =\n",
              "        document.querySelector('#df-5c843849-2968-437f-bd13-0e68f81f966e button.colab-df-convert');\n",
              "      buttonEl.style.display =\n",
              "        google.colab.kernel.accessAllowed ? 'block' : 'none';\n",
              "\n",
              "      async function convertToInteractive(key) {\n",
              "        const element = document.querySelector('#df-5c843849-2968-437f-bd13-0e68f81f966e');\n",
              "        const dataTable =\n",
              "          await google.colab.kernel.invokeFunction('convertToInteractive',\n",
              "                                                    [key], {});\n",
              "        if (!dataTable) return;\n",
              "\n",
              "        const docLinkHtml = 'Like what you see? Visit the ' +\n",
              "          '<a target=\"_blank\" href=https://colab.research.google.com/notebooks/data_table.ipynb>data table notebook</a>'\n",
              "          + ' to learn more about interactive tables.';\n",
              "        element.innerHTML = '';\n",
              "        dataTable['output_type'] = 'display_data';\n",
              "        await google.colab.output.renderOutput(dataTable, element);\n",
              "        const docLink = document.createElement('div');\n",
              "        docLink.innerHTML = docLinkHtml;\n",
              "        element.appendChild(docLink);\n",
              "      }\n",
              "    </script>\n",
              "  </div>\n",
              "\n",
              "\n",
              "<div id=\"df-ebfa636e-516e-48d9-8a8c-ebd96a7b2611\">\n",
              "  <button class=\"colab-df-quickchart\" onclick=\"quickchart('df-ebfa636e-516e-48d9-8a8c-ebd96a7b2611')\"\n",
              "            title=\"Suggest charts.\"\n",
              "            style=\"display:none;\">\n",
              "\n",
              "<svg xmlns=\"http://www.w3.org/2000/svg\" height=\"24px\"viewBox=\"0 0 24 24\"\n",
              "     width=\"24px\">\n",
              "    <g>\n",
              "        <path d=\"M19 3H5c-1.1 0-2 .9-2 2v14c0 1.1.9 2 2 2h14c1.1 0 2-.9 2-2V5c0-1.1-.9-2-2-2zM9 17H7v-7h2v7zm4 0h-2V7h2v10zm4 0h-2v-4h2v4z\"/>\n",
              "    </g>\n",
              "</svg>\n",
              "  </button>\n",
              "\n",
              "<style>\n",
              "  .colab-df-quickchart {\n",
              "      --bg-color: #E8F0FE;\n",
              "      --fill-color: #1967D2;\n",
              "      --hover-bg-color: #E2EBFA;\n",
              "      --hover-fill-color: #174EA6;\n",
              "      --disabled-fill-color: #AAA;\n",
              "      --disabled-bg-color: #DDD;\n",
              "  }\n",
              "\n",
              "  [theme=dark] .colab-df-quickchart {\n",
              "      --bg-color: #3B4455;\n",
              "      --fill-color: #D2E3FC;\n",
              "      --hover-bg-color: #434B5C;\n",
              "      --hover-fill-color: #FFFFFF;\n",
              "      --disabled-bg-color: #3B4455;\n",
              "      --disabled-fill-color: #666;\n",
              "  }\n",
              "\n",
              "  .colab-df-quickchart {\n",
              "    background-color: var(--bg-color);\n",
              "    border: none;\n",
              "    border-radius: 50%;\n",
              "    cursor: pointer;\n",
              "    display: none;\n",
              "    fill: var(--fill-color);\n",
              "    height: 32px;\n",
              "    padding: 0;\n",
              "    width: 32px;\n",
              "  }\n",
              "\n",
              "  .colab-df-quickchart:hover {\n",
              "    background-color: var(--hover-bg-color);\n",
              "    box-shadow: 0 1px 2px rgba(60, 64, 67, 0.3), 0 1px 3px 1px rgba(60, 64, 67, 0.15);\n",
              "    fill: var(--button-hover-fill-color);\n",
              "  }\n",
              "\n",
              "  .colab-df-quickchart-complete:disabled,\n",
              "  .colab-df-quickchart-complete:disabled:hover {\n",
              "    background-color: var(--disabled-bg-color);\n",
              "    fill: var(--disabled-fill-color);\n",
              "    box-shadow: none;\n",
              "  }\n",
              "\n",
              "  .colab-df-spinner {\n",
              "    border: 2px solid var(--fill-color);\n",
              "    border-color: transparent;\n",
              "    border-bottom-color: var(--fill-color);\n",
              "    animation:\n",
              "      spin 1s steps(1) infinite;\n",
              "  }\n",
              "\n",
              "  @keyframes spin {\n",
              "    0% {\n",
              "      border-color: transparent;\n",
              "      border-bottom-color: var(--fill-color);\n",
              "      border-left-color: var(--fill-color);\n",
              "    }\n",
              "    20% {\n",
              "      border-color: transparent;\n",
              "      border-left-color: var(--fill-color);\n",
              "      border-top-color: var(--fill-color);\n",
              "    }\n",
              "    30% {\n",
              "      border-color: transparent;\n",
              "      border-left-color: var(--fill-color);\n",
              "      border-top-color: var(--fill-color);\n",
              "      border-right-color: var(--fill-color);\n",
              "    }\n",
              "    40% {\n",
              "      border-color: transparent;\n",
              "      border-right-color: var(--fill-color);\n",
              "      border-top-color: var(--fill-color);\n",
              "    }\n",
              "    60% {\n",
              "      border-color: transparent;\n",
              "      border-right-color: var(--fill-color);\n",
              "    }\n",
              "    80% {\n",
              "      border-color: transparent;\n",
              "      border-right-color: var(--fill-color);\n",
              "      border-bottom-color: var(--fill-color);\n",
              "    }\n",
              "    90% {\n",
              "      border-color: transparent;\n",
              "      border-bottom-color: var(--fill-color);\n",
              "    }\n",
              "  }\n",
              "</style>\n",
              "\n",
              "  <script>\n",
              "    async function quickchart(key) {\n",
              "      const quickchartButtonEl =\n",
              "        document.querySelector('#' + key + ' button');\n",
              "      quickchartButtonEl.disabled = true;  // To prevent multiple clicks.\n",
              "      quickchartButtonEl.classList.add('colab-df-spinner');\n",
              "      try {\n",
              "        const charts = await google.colab.kernel.invokeFunction(\n",
              "            'suggestCharts', [key], {});\n",
              "      } catch (error) {\n",
              "        console.error('Error during call to suggestCharts:', error);\n",
              "      }\n",
              "      quickchartButtonEl.classList.remove('colab-df-spinner');\n",
              "      quickchartButtonEl.classList.add('colab-df-quickchart-complete');\n",
              "    }\n",
              "    (() => {\n",
              "      let quickchartButtonEl =\n",
              "        document.querySelector('#df-ebfa636e-516e-48d9-8a8c-ebd96a7b2611 button');\n",
              "      quickchartButtonEl.style.display =\n",
              "        google.colab.kernel.accessAllowed ? 'block' : 'none';\n",
              "    })();\n",
              "  </script>\n",
              "</div>\n",
              "    </div>\n",
              "  </div>\n"
            ]
          },
          "metadata": {},
          "execution_count": 84
        }
      ]
    },
    {
      "cell_type": "code",
      "source": [
        "transaction.info()"
      ],
      "metadata": {
        "colab": {
          "base_uri": "https://localhost:8080/"
        },
        "id": "_PKY9MjubFX9",
        "outputId": "16aedab9-335e-4d7a-ec7e-8b7959879131"
      },
      "execution_count": null,
      "outputs": [
        {
          "output_type": "stream",
          "name": "stdout",
          "text": [
            "<class 'pandas.core.frame.DataFrame'>\n",
            "RangeIndex: 20000 entries, 0 to 19999\n",
            "Data columns (total 13 columns):\n",
            " #   Column                   Non-Null Count  Dtype         \n",
            "---  ------                   --------------  -----         \n",
            " 0   transaction_id           20000 non-null  int64         \n",
            " 1   product_id               20000 non-null  int64         \n",
            " 2   customer_id              20000 non-null  int64         \n",
            " 3   transaction_date         20000 non-null  datetime64[ns]\n",
            " 4   online_order             19640 non-null  float64       \n",
            " 5   order_status             20000 non-null  object        \n",
            " 6   brand                    19803 non-null  object        \n",
            " 7   product_line             19803 non-null  object        \n",
            " 8   product_class            19803 non-null  object        \n",
            " 9   product_size             19803 non-null  object        \n",
            " 10  list_price               20000 non-null  float64       \n",
            " 11  standard_cost            19803 non-null  float64       \n",
            " 12  product_first_sold_date  19803 non-null  float64       \n",
            "dtypes: datetime64[ns](1), float64(4), int64(3), object(5)\n",
            "memory usage: 2.0+ MB\n"
          ]
        }
      ]
    },
    {
      "cell_type": "code",
      "source": [
        "transaction.describe()"
      ],
      "metadata": {
        "colab": {
          "base_uri": "https://localhost:8080/",
          "height": 300
        },
        "id": "iCjHzUAdbNps",
        "outputId": "24bbddbc-e7ad-43b0-fd7f-a7101a05d1b1"
      },
      "execution_count": null,
      "outputs": [
        {
          "output_type": "execute_result",
          "data": {
            "text/plain": [
              "       transaction_id   product_id   customer_id  online_order    list_price  \\\n",
              "count    20000.000000  20000.00000  20000.000000  19640.000000  20000.000000   \n",
              "mean     10000.500000     45.36465   1738.246050      0.500458   1107.829449   \n",
              "std       5773.647028     30.75359   1011.951046      0.500013    582.825242   \n",
              "min          1.000000      0.00000      1.000000      0.000000     12.010000   \n",
              "25%       5000.750000     18.00000    857.750000      0.000000    575.270000   \n",
              "50%      10000.500000     44.00000   1736.000000      1.000000   1163.890000   \n",
              "75%      15000.250000     72.00000   2613.000000      1.000000   1635.300000   \n",
              "max      20000.000000    100.00000   5034.000000      1.000000   2091.470000   \n",
              "\n",
              "       standard_cost  product_first_sold_date  \n",
              "count   19803.000000             19803.000000  \n",
              "mean      556.046951             38199.776549  \n",
              "std       405.955660              2875.201110  \n",
              "min         7.210000             33259.000000  \n",
              "25%       215.140000             35667.000000  \n",
              "50%       507.580000             38216.000000  \n",
              "75%       795.100000             40672.000000  \n",
              "max      1759.850000             42710.000000  "
            ],
            "text/html": [
              "\n",
              "  <div id=\"df-5e64bec4-3524-4103-bba1-720c33344f6a\" class=\"colab-df-container\">\n",
              "    <div>\n",
              "<style scoped>\n",
              "    .dataframe tbody tr th:only-of-type {\n",
              "        vertical-align: middle;\n",
              "    }\n",
              "\n",
              "    .dataframe tbody tr th {\n",
              "        vertical-align: top;\n",
              "    }\n",
              "\n",
              "    .dataframe thead th {\n",
              "        text-align: right;\n",
              "    }\n",
              "</style>\n",
              "<table border=\"1\" class=\"dataframe\">\n",
              "  <thead>\n",
              "    <tr style=\"text-align: right;\">\n",
              "      <th></th>\n",
              "      <th>transaction_id</th>\n",
              "      <th>product_id</th>\n",
              "      <th>customer_id</th>\n",
              "      <th>online_order</th>\n",
              "      <th>list_price</th>\n",
              "      <th>standard_cost</th>\n",
              "      <th>product_first_sold_date</th>\n",
              "    </tr>\n",
              "  </thead>\n",
              "  <tbody>\n",
              "    <tr>\n",
              "      <th>count</th>\n",
              "      <td>20000.000000</td>\n",
              "      <td>20000.00000</td>\n",
              "      <td>20000.000000</td>\n",
              "      <td>19640.000000</td>\n",
              "      <td>20000.000000</td>\n",
              "      <td>19803.000000</td>\n",
              "      <td>19803.000000</td>\n",
              "    </tr>\n",
              "    <tr>\n",
              "      <th>mean</th>\n",
              "      <td>10000.500000</td>\n",
              "      <td>45.36465</td>\n",
              "      <td>1738.246050</td>\n",
              "      <td>0.500458</td>\n",
              "      <td>1107.829449</td>\n",
              "      <td>556.046951</td>\n",
              "      <td>38199.776549</td>\n",
              "    </tr>\n",
              "    <tr>\n",
              "      <th>std</th>\n",
              "      <td>5773.647028</td>\n",
              "      <td>30.75359</td>\n",
              "      <td>1011.951046</td>\n",
              "      <td>0.500013</td>\n",
              "      <td>582.825242</td>\n",
              "      <td>405.955660</td>\n",
              "      <td>2875.201110</td>\n",
              "    </tr>\n",
              "    <tr>\n",
              "      <th>min</th>\n",
              "      <td>1.000000</td>\n",
              "      <td>0.00000</td>\n",
              "      <td>1.000000</td>\n",
              "      <td>0.000000</td>\n",
              "      <td>12.010000</td>\n",
              "      <td>7.210000</td>\n",
              "      <td>33259.000000</td>\n",
              "    </tr>\n",
              "    <tr>\n",
              "      <th>25%</th>\n",
              "      <td>5000.750000</td>\n",
              "      <td>18.00000</td>\n",
              "      <td>857.750000</td>\n",
              "      <td>0.000000</td>\n",
              "      <td>575.270000</td>\n",
              "      <td>215.140000</td>\n",
              "      <td>35667.000000</td>\n",
              "    </tr>\n",
              "    <tr>\n",
              "      <th>50%</th>\n",
              "      <td>10000.500000</td>\n",
              "      <td>44.00000</td>\n",
              "      <td>1736.000000</td>\n",
              "      <td>1.000000</td>\n",
              "      <td>1163.890000</td>\n",
              "      <td>507.580000</td>\n",
              "      <td>38216.000000</td>\n",
              "    </tr>\n",
              "    <tr>\n",
              "      <th>75%</th>\n",
              "      <td>15000.250000</td>\n",
              "      <td>72.00000</td>\n",
              "      <td>2613.000000</td>\n",
              "      <td>1.000000</td>\n",
              "      <td>1635.300000</td>\n",
              "      <td>795.100000</td>\n",
              "      <td>40672.000000</td>\n",
              "    </tr>\n",
              "    <tr>\n",
              "      <th>max</th>\n",
              "      <td>20000.000000</td>\n",
              "      <td>100.00000</td>\n",
              "      <td>5034.000000</td>\n",
              "      <td>1.000000</td>\n",
              "      <td>2091.470000</td>\n",
              "      <td>1759.850000</td>\n",
              "      <td>42710.000000</td>\n",
              "    </tr>\n",
              "  </tbody>\n",
              "</table>\n",
              "</div>\n",
              "    <div class=\"colab-df-buttons\">\n",
              "\n",
              "  <div class=\"colab-df-container\">\n",
              "    <button class=\"colab-df-convert\" onclick=\"convertToInteractive('df-5e64bec4-3524-4103-bba1-720c33344f6a')\"\n",
              "            title=\"Convert this dataframe to an interactive table.\"\n",
              "            style=\"display:none;\">\n",
              "\n",
              "  <svg xmlns=\"http://www.w3.org/2000/svg\" height=\"24px\" viewBox=\"0 -960 960 960\">\n",
              "    <path d=\"M120-120v-720h720v720H120Zm60-500h600v-160H180v160Zm220 220h160v-160H400v160Zm0 220h160v-160H400v160ZM180-400h160v-160H180v160Zm440 0h160v-160H620v160ZM180-180h160v-160H180v160Zm440 0h160v-160H620v160Z\"/>\n",
              "  </svg>\n",
              "    </button>\n",
              "\n",
              "  <style>\n",
              "    .colab-df-container {\n",
              "      display:flex;\n",
              "      gap: 12px;\n",
              "    }\n",
              "\n",
              "    .colab-df-convert {\n",
              "      background-color: #E8F0FE;\n",
              "      border: none;\n",
              "      border-radius: 50%;\n",
              "      cursor: pointer;\n",
              "      display: none;\n",
              "      fill: #1967D2;\n",
              "      height: 32px;\n",
              "      padding: 0 0 0 0;\n",
              "      width: 32px;\n",
              "    }\n",
              "\n",
              "    .colab-df-convert:hover {\n",
              "      background-color: #E2EBFA;\n",
              "      box-shadow: 0px 1px 2px rgba(60, 64, 67, 0.3), 0px 1px 3px 1px rgba(60, 64, 67, 0.15);\n",
              "      fill: #174EA6;\n",
              "    }\n",
              "\n",
              "    .colab-df-buttons div {\n",
              "      margin-bottom: 4px;\n",
              "    }\n",
              "\n",
              "    [theme=dark] .colab-df-convert {\n",
              "      background-color: #3B4455;\n",
              "      fill: #D2E3FC;\n",
              "    }\n",
              "\n",
              "    [theme=dark] .colab-df-convert:hover {\n",
              "      background-color: #434B5C;\n",
              "      box-shadow: 0px 1px 3px 1px rgba(0, 0, 0, 0.15);\n",
              "      filter: drop-shadow(0px 1px 2px rgba(0, 0, 0, 0.3));\n",
              "      fill: #FFFFFF;\n",
              "    }\n",
              "  </style>\n",
              "\n",
              "    <script>\n",
              "      const buttonEl =\n",
              "        document.querySelector('#df-5e64bec4-3524-4103-bba1-720c33344f6a button.colab-df-convert');\n",
              "      buttonEl.style.display =\n",
              "        google.colab.kernel.accessAllowed ? 'block' : 'none';\n",
              "\n",
              "      async function convertToInteractive(key) {\n",
              "        const element = document.querySelector('#df-5e64bec4-3524-4103-bba1-720c33344f6a');\n",
              "        const dataTable =\n",
              "          await google.colab.kernel.invokeFunction('convertToInteractive',\n",
              "                                                    [key], {});\n",
              "        if (!dataTable) return;\n",
              "\n",
              "        const docLinkHtml = 'Like what you see? Visit the ' +\n",
              "          '<a target=\"_blank\" href=https://colab.research.google.com/notebooks/data_table.ipynb>data table notebook</a>'\n",
              "          + ' to learn more about interactive tables.';\n",
              "        element.innerHTML = '';\n",
              "        dataTable['output_type'] = 'display_data';\n",
              "        await google.colab.output.renderOutput(dataTable, element);\n",
              "        const docLink = document.createElement('div');\n",
              "        docLink.innerHTML = docLinkHtml;\n",
              "        element.appendChild(docLink);\n",
              "      }\n",
              "    </script>\n",
              "  </div>\n",
              "\n",
              "\n",
              "<div id=\"df-0562b006-a32f-4f60-aa5e-9f9b176c9d7b\">\n",
              "  <button class=\"colab-df-quickchart\" onclick=\"quickchart('df-0562b006-a32f-4f60-aa5e-9f9b176c9d7b')\"\n",
              "            title=\"Suggest charts.\"\n",
              "            style=\"display:none;\">\n",
              "\n",
              "<svg xmlns=\"http://www.w3.org/2000/svg\" height=\"24px\"viewBox=\"0 0 24 24\"\n",
              "     width=\"24px\">\n",
              "    <g>\n",
              "        <path d=\"M19 3H5c-1.1 0-2 .9-2 2v14c0 1.1.9 2 2 2h14c1.1 0 2-.9 2-2V5c0-1.1-.9-2-2-2zM9 17H7v-7h2v7zm4 0h-2V7h2v10zm4 0h-2v-4h2v4z\"/>\n",
              "    </g>\n",
              "</svg>\n",
              "  </button>\n",
              "\n",
              "<style>\n",
              "  .colab-df-quickchart {\n",
              "      --bg-color: #E8F0FE;\n",
              "      --fill-color: #1967D2;\n",
              "      --hover-bg-color: #E2EBFA;\n",
              "      --hover-fill-color: #174EA6;\n",
              "      --disabled-fill-color: #AAA;\n",
              "      --disabled-bg-color: #DDD;\n",
              "  }\n",
              "\n",
              "  [theme=dark] .colab-df-quickchart {\n",
              "      --bg-color: #3B4455;\n",
              "      --fill-color: #D2E3FC;\n",
              "      --hover-bg-color: #434B5C;\n",
              "      --hover-fill-color: #FFFFFF;\n",
              "      --disabled-bg-color: #3B4455;\n",
              "      --disabled-fill-color: #666;\n",
              "  }\n",
              "\n",
              "  .colab-df-quickchart {\n",
              "    background-color: var(--bg-color);\n",
              "    border: none;\n",
              "    border-radius: 50%;\n",
              "    cursor: pointer;\n",
              "    display: none;\n",
              "    fill: var(--fill-color);\n",
              "    height: 32px;\n",
              "    padding: 0;\n",
              "    width: 32px;\n",
              "  }\n",
              "\n",
              "  .colab-df-quickchart:hover {\n",
              "    background-color: var(--hover-bg-color);\n",
              "    box-shadow: 0 1px 2px rgba(60, 64, 67, 0.3), 0 1px 3px 1px rgba(60, 64, 67, 0.15);\n",
              "    fill: var(--button-hover-fill-color);\n",
              "  }\n",
              "\n",
              "  .colab-df-quickchart-complete:disabled,\n",
              "  .colab-df-quickchart-complete:disabled:hover {\n",
              "    background-color: var(--disabled-bg-color);\n",
              "    fill: var(--disabled-fill-color);\n",
              "    box-shadow: none;\n",
              "  }\n",
              "\n",
              "  .colab-df-spinner {\n",
              "    border: 2px solid var(--fill-color);\n",
              "    border-color: transparent;\n",
              "    border-bottom-color: var(--fill-color);\n",
              "    animation:\n",
              "      spin 1s steps(1) infinite;\n",
              "  }\n",
              "\n",
              "  @keyframes spin {\n",
              "    0% {\n",
              "      border-color: transparent;\n",
              "      border-bottom-color: var(--fill-color);\n",
              "      border-left-color: var(--fill-color);\n",
              "    }\n",
              "    20% {\n",
              "      border-color: transparent;\n",
              "      border-left-color: var(--fill-color);\n",
              "      border-top-color: var(--fill-color);\n",
              "    }\n",
              "    30% {\n",
              "      border-color: transparent;\n",
              "      border-left-color: var(--fill-color);\n",
              "      border-top-color: var(--fill-color);\n",
              "      border-right-color: var(--fill-color);\n",
              "    }\n",
              "    40% {\n",
              "      border-color: transparent;\n",
              "      border-right-color: var(--fill-color);\n",
              "      border-top-color: var(--fill-color);\n",
              "    }\n",
              "    60% {\n",
              "      border-color: transparent;\n",
              "      border-right-color: var(--fill-color);\n",
              "    }\n",
              "    80% {\n",
              "      border-color: transparent;\n",
              "      border-right-color: var(--fill-color);\n",
              "      border-bottom-color: var(--fill-color);\n",
              "    }\n",
              "    90% {\n",
              "      border-color: transparent;\n",
              "      border-bottom-color: var(--fill-color);\n",
              "    }\n",
              "  }\n",
              "</style>\n",
              "\n",
              "  <script>\n",
              "    async function quickchart(key) {\n",
              "      const quickchartButtonEl =\n",
              "        document.querySelector('#' + key + ' button');\n",
              "      quickchartButtonEl.disabled = true;  // To prevent multiple clicks.\n",
              "      quickchartButtonEl.classList.add('colab-df-spinner');\n",
              "      try {\n",
              "        const charts = await google.colab.kernel.invokeFunction(\n",
              "            'suggestCharts', [key], {});\n",
              "      } catch (error) {\n",
              "        console.error('Error during call to suggestCharts:', error);\n",
              "      }\n",
              "      quickchartButtonEl.classList.remove('colab-df-spinner');\n",
              "      quickchartButtonEl.classList.add('colab-df-quickchart-complete');\n",
              "    }\n",
              "    (() => {\n",
              "      let quickchartButtonEl =\n",
              "        document.querySelector('#df-0562b006-a32f-4f60-aa5e-9f9b176c9d7b button');\n",
              "      quickchartButtonEl.style.display =\n",
              "        google.colab.kernel.accessAllowed ? 'block' : 'none';\n",
              "    })();\n",
              "  </script>\n",
              "</div>\n",
              "    </div>\n",
              "  </div>\n"
            ]
          },
          "metadata": {},
          "execution_count": 86
        }
      ]
    },
    {
      "cell_type": "code",
      "source": [
        "transaction.isnull().sum()"
      ],
      "metadata": {
        "colab": {
          "base_uri": "https://localhost:8080/"
        },
        "id": "5p39uDWPbS5L",
        "outputId": "29b3875b-4bed-4621-955b-f33aaba0971d"
      },
      "execution_count": null,
      "outputs": [
        {
          "output_type": "execute_result",
          "data": {
            "text/plain": [
              "transaction_id               0\n",
              "product_id                   0\n",
              "customer_id                  0\n",
              "transaction_date             0\n",
              "online_order               360\n",
              "order_status                 0\n",
              "brand                      197\n",
              "product_line               197\n",
              "product_class              197\n",
              "product_size               197\n",
              "list_price                   0\n",
              "standard_cost              197\n",
              "product_first_sold_date    197\n",
              "dtype: int64"
            ]
          },
          "metadata": {},
          "execution_count": 87
        }
      ]
    },
    {
      "cell_type": "markdown",
      "source": [
        " **There are 7 columns which contain null values , so it can be filled basis on the further analysis**"
      ],
      "metadata": {
        "id": "Dn2Ept5QbdDk"
      }
    },
    {
      "cell_type": "code",
      "source": [
        "transaction.duplicated().sum()"
      ],
      "metadata": {
        "colab": {
          "base_uri": "https://localhost:8080/"
        },
        "id": "kUShjFnjbuYN",
        "outputId": "7a855a98-2090-4991-d673-965a3f990427"
      },
      "execution_count": null,
      "outputs": [
        {
          "output_type": "execute_result",
          "data": {
            "text/plain": [
              "0"
            ]
          },
          "metadata": {},
          "execution_count": 88
        }
      ]
    },
    {
      "cell_type": "markdown",
      "source": [
        " **There are no duplicate value ,therefore all values are unique**"
      ],
      "metadata": {
        "id": "gTwzeZAlcgTe"
      }
    },
    {
      "cell_type": "markdown",
      "source": [
        "## **Exploring columns**"
      ],
      "metadata": {
        "id": "HNDX6dHfc3o2"
      }
    },
    {
      "cell_type": "code",
      "source": [
        "transaction.dtypes"
      ],
      "metadata": {
        "colab": {
          "base_uri": "https://localhost:8080/"
        },
        "id": "3DB2XLfecta_",
        "outputId": "938896ab-40b9-467b-8c3c-83cb0c7a76d4"
      },
      "execution_count": null,
      "outputs": [
        {
          "output_type": "execute_result",
          "data": {
            "text/plain": [
              "transaction_id                      int64\n",
              "product_id                          int64\n",
              "customer_id                         int64\n",
              "transaction_date           datetime64[ns]\n",
              "online_order                      float64\n",
              "order_status                       object\n",
              "brand                              object\n",
              "product_line                       object\n",
              "product_class                      object\n",
              "product_size                       object\n",
              "list_price                        float64\n",
              "standard_cost                     float64\n",
              "product_first_sold_date           float64\n",
              "dtype: object"
            ]
          },
          "metadata": {},
          "execution_count": 89
        }
      ]
    },
    {
      "cell_type": "code",
      "source": [
        "cols = [\"order_status\" , \"brand\" , \"product_line\" , \"product_class\" , \"product_size\"]\n",
        "\n",
        "for i in cols:\n",
        "  status = transaction[i].value_counts()\n",
        "  print(status)\n",
        "  print(\"___________________________________________________________\")\n"
      ],
      "metadata": {
        "colab": {
          "base_uri": "https://localhost:8080/"
        },
        "id": "0Xwdh8oCc8P9",
        "outputId": "ba3adab7-3d4f-4f9d-e8a3-8497b0d6b994"
      },
      "execution_count": null,
      "outputs": [
        {
          "output_type": "stream",
          "name": "stdout",
          "text": [
            "Approved     19821\n",
            "Cancelled      179\n",
            "Name: order_status, dtype: int64\n",
            "___________________________________________________________\n",
            "Solex             4253\n",
            "Giant Bicycles    3312\n",
            "WeareA2B          3295\n",
            "OHM Cycles        3043\n",
            "Trek Bicycles     2990\n",
            "Norco Bicycles    2910\n",
            "Name: brand, dtype: int64\n",
            "___________________________________________________________\n",
            "Standard    14176\n",
            "Road         3970\n",
            "Touring      1234\n",
            "Mountain      423\n",
            "Name: product_line, dtype: int64\n",
            "___________________________________________________________\n",
            "medium    13826\n",
            "high       3013\n",
            "low        2964\n",
            "Name: product_class, dtype: int64\n",
            "___________________________________________________________\n",
            "medium    12990\n",
            "large      3976\n",
            "small      2837\n",
            "Name: product_size, dtype: int64\n",
            "___________________________________________________________\n"
          ]
        }
      ]
    },
    {
      "cell_type": "markdown",
      "source": [
        "**by this i can conclude that  Solex brand most popular**"
      ],
      "metadata": {
        "id": "fRbDqBWWi0Hu"
      }
    },
    {
      "cell_type": "code",
      "source": [
        "transaction[\"transaction_id\"].value_counts()"
      ],
      "metadata": {
        "colab": {
          "base_uri": "https://localhost:8080/"
        },
        "id": "5h-cCA79gUo_",
        "outputId": "24d3d595-1d4e-494a-e70e-b0163c171a3f"
      },
      "execution_count": null,
      "outputs": [
        {
          "output_type": "execute_result",
          "data": {
            "text/plain": [
              "1        1\n",
              "13331    1\n",
              "13338    1\n",
              "13337    1\n",
              "13336    1\n",
              "        ..\n",
              "6667     1\n",
              "6666     1\n",
              "6665     1\n",
              "6664     1\n",
              "20000    1\n",
              "Name: transaction_id, Length: 20000, dtype: int64"
            ]
          },
          "metadata": {},
          "execution_count": 91
        }
      ]
    },
    {
      "cell_type": "code",
      "source": [
        "transaction[\"product_id\"].value_counts()"
      ],
      "metadata": {
        "colab": {
          "base_uri": "https://localhost:8080/"
        },
        "id": "b2rF4WtUiE6w",
        "outputId": "596682c3-a482-4293-c992-865d22959575"
      },
      "execution_count": null,
      "outputs": [
        {
          "output_type": "execute_result",
          "data": {
            "text/plain": [
              "0      1378\n",
              "3       354\n",
              "1       311\n",
              "35      268\n",
              "38      267\n",
              "       ... \n",
              "71      137\n",
              "8       136\n",
              "16      136\n",
              "100     130\n",
              "47      121\n",
              "Name: product_id, Length: 101, dtype: int64"
            ]
          },
          "metadata": {},
          "execution_count": 92
        }
      ]
    },
    {
      "cell_type": "code",
      "source": [
        "transaction[\"customer_id\"].value_counts()"
      ],
      "metadata": {
        "colab": {
          "base_uri": "https://localhost:8080/"
        },
        "id": "SXc8HDDBiMkX",
        "outputId": "0c5e6167-131a-4c1d-fd07-aa7ef88dbbde"
      },
      "execution_count": null,
      "outputs": [
        {
          "output_type": "execute_result",
          "data": {
            "text/plain": [
              "2183    14\n",
              "2476    14\n",
              "1068    14\n",
              "1672    13\n",
              "2912    13\n",
              "        ..\n",
              "898      1\n",
              "2352     1\n",
              "1846     1\n",
              "3279     1\n",
              "1757     1\n",
              "Name: customer_id, Length: 3494, dtype: int64"
            ]
          },
          "metadata": {},
          "execution_count": 93
        }
      ]
    },
    {
      "cell_type": "markdown",
      "source": [
        "**there are total 3494 customer id**"
      ],
      "metadata": {
        "id": "9EjI8sbDjmaI"
      }
    },
    {
      "cell_type": "code",
      "source": [
        "transaction[\"transaction_date\"].value_counts()"
      ],
      "metadata": {
        "colab": {
          "base_uri": "https://localhost:8080/"
        },
        "id": "GJOSK-MsiWDZ",
        "outputId": "007fcbc4-0491-4ec3-e73b-1953a3b1e9c2"
      },
      "execution_count": null,
      "outputs": [
        {
          "output_type": "execute_result",
          "data": {
            "text/plain": [
              "2017-02-14    82\n",
              "2017-08-18    82\n",
              "2017-10-15    76\n",
              "2017-01-31    73\n",
              "2017-12-19    71\n",
              "              ..\n",
              "2017-01-12    38\n",
              "2017-12-07    37\n",
              "2017-03-29    36\n",
              "2017-09-25    35\n",
              "2017-10-19    32\n",
              "Name: transaction_date, Length: 364, dtype: int64"
            ]
          },
          "metadata": {},
          "execution_count": 94
        }
      ]
    },
    {
      "cell_type": "code",
      "source": [
        "transaction[\"product_first_sold_date\"].value_counts()"
      ],
      "metadata": {
        "colab": {
          "base_uri": "https://localhost:8080/"
        },
        "id": "HVMXh1z1ijPv",
        "outputId": "f51c45af-af93-42ef-95b5-befb35928c19"
      },
      "execution_count": null,
      "outputs": [
        {
          "output_type": "execute_result",
          "data": {
            "text/plain": [
              "33879.0    234\n",
              "41064.0    229\n",
              "37823.0    227\n",
              "39880.0    222\n",
              "38216.0    220\n",
              "          ... \n",
              "41848.0    169\n",
              "42404.0    168\n",
              "41922.0    166\n",
              "37659.0    163\n",
              "34586.0    162\n",
              "Name: product_first_sold_date, Length: 100, dtype: int64"
            ]
          },
          "metadata": {},
          "execution_count": 95
        }
      ]
    },
    {
      "cell_type": "markdown",
      "source": [
        "**In product sold date has wrong data inputed , instead of sold date there is price**\n",
        "\n"
      ],
      "metadata": {
        "id": "370VEq0OjJ9p"
      }
    },
    {
      "cell_type": "markdown",
      "source": [
        "# **Exploring NewCustomerlist Dataset**"
      ],
      "metadata": {
        "id": "n0HaEBoOj9mw"
      }
    },
    {
      "cell_type": "code",
      "source": [
        "new_customer.shape"
      ],
      "metadata": {
        "colab": {
          "base_uri": "https://localhost:8080/"
        },
        "id": "0qc3l-EqkM-7",
        "outputId": "1766470c-e8dd-47ea-b9ad-f72c8c31422a"
      },
      "execution_count": null,
      "outputs": [
        {
          "output_type": "execute_result",
          "data": {
            "text/plain": [
              "(1000, 23)"
            ]
          },
          "metadata": {},
          "execution_count": 96
        }
      ]
    },
    {
      "cell_type": "code",
      "source": [
        "new_customer.columns"
      ],
      "metadata": {
        "colab": {
          "base_uri": "https://localhost:8080/"
        },
        "id": "icU5C4KYkPvK",
        "outputId": "800d4971-5d1f-40ad-d08d-4ca055a84951"
      },
      "execution_count": null,
      "outputs": [
        {
          "output_type": "execute_result",
          "data": {
            "text/plain": [
              "Index(['first_name', 'last_name', 'gender',\n",
              "       'past_3_years_bike_related_purchases', 'DOB', 'job_title',\n",
              "       'job_industry_category', 'wealth_segment', 'deceased_indicator',\n",
              "       'owns_car', 'tenure', 'address', 'postcode', 'state', 'country',\n",
              "       'property_valuation', 'Unnamed: 16', 'Unnamed: 17', 'Unnamed: 18',\n",
              "       'Unnamed: 19', 'Unnamed: 20', 'Rank', 'Value'],\n",
              "      dtype='object')"
            ]
          },
          "metadata": {},
          "execution_count": 97
        }
      ]
    },
    {
      "cell_type": "code",
      "source": [
        "new_customer.info()"
      ],
      "metadata": {
        "colab": {
          "base_uri": "https://localhost:8080/"
        },
        "id": "O3bdt5RukTxi",
        "outputId": "f68477d4-a543-4a85-a45d-ce96919cd56a"
      },
      "execution_count": null,
      "outputs": [
        {
          "output_type": "stream",
          "name": "stdout",
          "text": [
            "<class 'pandas.core.frame.DataFrame'>\n",
            "RangeIndex: 1000 entries, 0 to 999\n",
            "Data columns (total 23 columns):\n",
            " #   Column                               Non-Null Count  Dtype         \n",
            "---  ------                               --------------  -----         \n",
            " 0   first_name                           1000 non-null   object        \n",
            " 1   last_name                            971 non-null    object        \n",
            " 2   gender                               1000 non-null   object        \n",
            " 3   past_3_years_bike_related_purchases  1000 non-null   int64         \n",
            " 4   DOB                                  983 non-null    datetime64[ns]\n",
            " 5   job_title                            894 non-null    object        \n",
            " 6   job_industry_category                835 non-null    object        \n",
            " 7   wealth_segment                       1000 non-null   object        \n",
            " 8   deceased_indicator                   1000 non-null   object        \n",
            " 9   owns_car                             1000 non-null   object        \n",
            " 10  tenure                               1000 non-null   int64         \n",
            " 11  address                              1000 non-null   object        \n",
            " 12  postcode                             1000 non-null   int64         \n",
            " 13  state                                1000 non-null   object        \n",
            " 14  country                              1000 non-null   object        \n",
            " 15  property_valuation                   1000 non-null   int64         \n",
            " 16  Unnamed: 16                          1000 non-null   float64       \n",
            " 17  Unnamed: 17                          1000 non-null   float64       \n",
            " 18  Unnamed: 18                          1000 non-null   float64       \n",
            " 19  Unnamed: 19                          1000 non-null   float64       \n",
            " 20  Unnamed: 20                          1000 non-null   int64         \n",
            " 21  Rank                                 1000 non-null   int64         \n",
            " 22  Value                                1000 non-null   float64       \n",
            "dtypes: datetime64[ns](1), float64(5), int64(6), object(11)\n",
            "memory usage: 179.8+ KB\n"
          ]
        }
      ]
    },
    {
      "cell_type": "code",
      "source": [
        "new_customer.head(2)"
      ],
      "metadata": {
        "colab": {
          "base_uri": "https://localhost:8080/",
          "height": 214
        },
        "id": "JQAt4bemkhSx",
        "outputId": "7a331b42-4665-4ece-cc99-7fba47e0d3d0"
      },
      "execution_count": null,
      "outputs": [
        {
          "output_type": "execute_result",
          "data": {
            "text/plain": [
              "  first_name last_name gender  past_3_years_bike_related_purchases        DOB  \\\n",
              "0    Chickie   Brister   Male                                   86 1957-07-12   \n",
              "1      Morly    Genery   Male                                   69 1970-03-22   \n",
              "\n",
              "             job_title job_industry_category wealth_segment  \\\n",
              "0      General Manager         Manufacturing  Mass Customer   \n",
              "1  Structural Engineer              Property  Mass Customer   \n",
              "\n",
              "  deceased_indicator owns_car  ...  state    country  property_valuation  \\\n",
              "0                  N      Yes  ...    QLD  Australia                   6   \n",
              "1                  N       No  ...    NSW  Australia                  11   \n",
              "\n",
              "  Unnamed: 16 Unnamed: 17  Unnamed: 18  Unnamed: 19  Unnamed: 20  Rank  \\\n",
              "0        0.54       0.675      0.84375     0.717187            1     1   \n",
              "1        0.81       0.810      1.01250     0.860625            1     1   \n",
              "\n",
              "     Value  \n",
              "0  1.71875  \n",
              "1  1.71875  \n",
              "\n",
              "[2 rows x 23 columns]"
            ],
            "text/html": [
              "\n",
              "  <div id=\"df-a1fd88ab-4190-4040-b340-8589772f7f0c\" class=\"colab-df-container\">\n",
              "    <div>\n",
              "<style scoped>\n",
              "    .dataframe tbody tr th:only-of-type {\n",
              "        vertical-align: middle;\n",
              "    }\n",
              "\n",
              "    .dataframe tbody tr th {\n",
              "        vertical-align: top;\n",
              "    }\n",
              "\n",
              "    .dataframe thead th {\n",
              "        text-align: right;\n",
              "    }\n",
              "</style>\n",
              "<table border=\"1\" class=\"dataframe\">\n",
              "  <thead>\n",
              "    <tr style=\"text-align: right;\">\n",
              "      <th></th>\n",
              "      <th>first_name</th>\n",
              "      <th>last_name</th>\n",
              "      <th>gender</th>\n",
              "      <th>past_3_years_bike_related_purchases</th>\n",
              "      <th>DOB</th>\n",
              "      <th>job_title</th>\n",
              "      <th>job_industry_category</th>\n",
              "      <th>wealth_segment</th>\n",
              "      <th>deceased_indicator</th>\n",
              "      <th>owns_car</th>\n",
              "      <th>...</th>\n",
              "      <th>state</th>\n",
              "      <th>country</th>\n",
              "      <th>property_valuation</th>\n",
              "      <th>Unnamed: 16</th>\n",
              "      <th>Unnamed: 17</th>\n",
              "      <th>Unnamed: 18</th>\n",
              "      <th>Unnamed: 19</th>\n",
              "      <th>Unnamed: 20</th>\n",
              "      <th>Rank</th>\n",
              "      <th>Value</th>\n",
              "    </tr>\n",
              "  </thead>\n",
              "  <tbody>\n",
              "    <tr>\n",
              "      <th>0</th>\n",
              "      <td>Chickie</td>\n",
              "      <td>Brister</td>\n",
              "      <td>Male</td>\n",
              "      <td>86</td>\n",
              "      <td>1957-07-12</td>\n",
              "      <td>General Manager</td>\n",
              "      <td>Manufacturing</td>\n",
              "      <td>Mass Customer</td>\n",
              "      <td>N</td>\n",
              "      <td>Yes</td>\n",
              "      <td>...</td>\n",
              "      <td>QLD</td>\n",
              "      <td>Australia</td>\n",
              "      <td>6</td>\n",
              "      <td>0.54</td>\n",
              "      <td>0.675</td>\n",
              "      <td>0.84375</td>\n",
              "      <td>0.717187</td>\n",
              "      <td>1</td>\n",
              "      <td>1</td>\n",
              "      <td>1.71875</td>\n",
              "    </tr>\n",
              "    <tr>\n",
              "      <th>1</th>\n",
              "      <td>Morly</td>\n",
              "      <td>Genery</td>\n",
              "      <td>Male</td>\n",
              "      <td>69</td>\n",
              "      <td>1970-03-22</td>\n",
              "      <td>Structural Engineer</td>\n",
              "      <td>Property</td>\n",
              "      <td>Mass Customer</td>\n",
              "      <td>N</td>\n",
              "      <td>No</td>\n",
              "      <td>...</td>\n",
              "      <td>NSW</td>\n",
              "      <td>Australia</td>\n",
              "      <td>11</td>\n",
              "      <td>0.81</td>\n",
              "      <td>0.810</td>\n",
              "      <td>1.01250</td>\n",
              "      <td>0.860625</td>\n",
              "      <td>1</td>\n",
              "      <td>1</td>\n",
              "      <td>1.71875</td>\n",
              "    </tr>\n",
              "  </tbody>\n",
              "</table>\n",
              "<p>2 rows × 23 columns</p>\n",
              "</div>\n",
              "    <div class=\"colab-df-buttons\">\n",
              "\n",
              "  <div class=\"colab-df-container\">\n",
              "    <button class=\"colab-df-convert\" onclick=\"convertToInteractive('df-a1fd88ab-4190-4040-b340-8589772f7f0c')\"\n",
              "            title=\"Convert this dataframe to an interactive table.\"\n",
              "            style=\"display:none;\">\n",
              "\n",
              "  <svg xmlns=\"http://www.w3.org/2000/svg\" height=\"24px\" viewBox=\"0 -960 960 960\">\n",
              "    <path d=\"M120-120v-720h720v720H120Zm60-500h600v-160H180v160Zm220 220h160v-160H400v160Zm0 220h160v-160H400v160ZM180-400h160v-160H180v160Zm440 0h160v-160H620v160ZM180-180h160v-160H180v160Zm440 0h160v-160H620v160Z\"/>\n",
              "  </svg>\n",
              "    </button>\n",
              "\n",
              "  <style>\n",
              "    .colab-df-container {\n",
              "      display:flex;\n",
              "      gap: 12px;\n",
              "    }\n",
              "\n",
              "    .colab-df-convert {\n",
              "      background-color: #E8F0FE;\n",
              "      border: none;\n",
              "      border-radius: 50%;\n",
              "      cursor: pointer;\n",
              "      display: none;\n",
              "      fill: #1967D2;\n",
              "      height: 32px;\n",
              "      padding: 0 0 0 0;\n",
              "      width: 32px;\n",
              "    }\n",
              "\n",
              "    .colab-df-convert:hover {\n",
              "      background-color: #E2EBFA;\n",
              "      box-shadow: 0px 1px 2px rgba(60, 64, 67, 0.3), 0px 1px 3px 1px rgba(60, 64, 67, 0.15);\n",
              "      fill: #174EA6;\n",
              "    }\n",
              "\n",
              "    .colab-df-buttons div {\n",
              "      margin-bottom: 4px;\n",
              "    }\n",
              "\n",
              "    [theme=dark] .colab-df-convert {\n",
              "      background-color: #3B4455;\n",
              "      fill: #D2E3FC;\n",
              "    }\n",
              "\n",
              "    [theme=dark] .colab-df-convert:hover {\n",
              "      background-color: #434B5C;\n",
              "      box-shadow: 0px 1px 3px 1px rgba(0, 0, 0, 0.15);\n",
              "      filter: drop-shadow(0px 1px 2px rgba(0, 0, 0, 0.3));\n",
              "      fill: #FFFFFF;\n",
              "    }\n",
              "  </style>\n",
              "\n",
              "    <script>\n",
              "      const buttonEl =\n",
              "        document.querySelector('#df-a1fd88ab-4190-4040-b340-8589772f7f0c button.colab-df-convert');\n",
              "      buttonEl.style.display =\n",
              "        google.colab.kernel.accessAllowed ? 'block' : 'none';\n",
              "\n",
              "      async function convertToInteractive(key) {\n",
              "        const element = document.querySelector('#df-a1fd88ab-4190-4040-b340-8589772f7f0c');\n",
              "        const dataTable =\n",
              "          await google.colab.kernel.invokeFunction('convertToInteractive',\n",
              "                                                    [key], {});\n",
              "        if (!dataTable) return;\n",
              "\n",
              "        const docLinkHtml = 'Like what you see? Visit the ' +\n",
              "          '<a target=\"_blank\" href=https://colab.research.google.com/notebooks/data_table.ipynb>data table notebook</a>'\n",
              "          + ' to learn more about interactive tables.';\n",
              "        element.innerHTML = '';\n",
              "        dataTable['output_type'] = 'display_data';\n",
              "        await google.colab.output.renderOutput(dataTable, element);\n",
              "        const docLink = document.createElement('div');\n",
              "        docLink.innerHTML = docLinkHtml;\n",
              "        element.appendChild(docLink);\n",
              "      }\n",
              "    </script>\n",
              "  </div>\n",
              "\n",
              "\n",
              "<div id=\"df-8319da65-47bd-4cad-9700-ce5784bedc32\">\n",
              "  <button class=\"colab-df-quickchart\" onclick=\"quickchart('df-8319da65-47bd-4cad-9700-ce5784bedc32')\"\n",
              "            title=\"Suggest charts.\"\n",
              "            style=\"display:none;\">\n",
              "\n",
              "<svg xmlns=\"http://www.w3.org/2000/svg\" height=\"24px\"viewBox=\"0 0 24 24\"\n",
              "     width=\"24px\">\n",
              "    <g>\n",
              "        <path d=\"M19 3H5c-1.1 0-2 .9-2 2v14c0 1.1.9 2 2 2h14c1.1 0 2-.9 2-2V5c0-1.1-.9-2-2-2zM9 17H7v-7h2v7zm4 0h-2V7h2v10zm4 0h-2v-4h2v4z\"/>\n",
              "    </g>\n",
              "</svg>\n",
              "  </button>\n",
              "\n",
              "<style>\n",
              "  .colab-df-quickchart {\n",
              "      --bg-color: #E8F0FE;\n",
              "      --fill-color: #1967D2;\n",
              "      --hover-bg-color: #E2EBFA;\n",
              "      --hover-fill-color: #174EA6;\n",
              "      --disabled-fill-color: #AAA;\n",
              "      --disabled-bg-color: #DDD;\n",
              "  }\n",
              "\n",
              "  [theme=dark] .colab-df-quickchart {\n",
              "      --bg-color: #3B4455;\n",
              "      --fill-color: #D2E3FC;\n",
              "      --hover-bg-color: #434B5C;\n",
              "      --hover-fill-color: #FFFFFF;\n",
              "      --disabled-bg-color: #3B4455;\n",
              "      --disabled-fill-color: #666;\n",
              "  }\n",
              "\n",
              "  .colab-df-quickchart {\n",
              "    background-color: var(--bg-color);\n",
              "    border: none;\n",
              "    border-radius: 50%;\n",
              "    cursor: pointer;\n",
              "    display: none;\n",
              "    fill: var(--fill-color);\n",
              "    height: 32px;\n",
              "    padding: 0;\n",
              "    width: 32px;\n",
              "  }\n",
              "\n",
              "  .colab-df-quickchart:hover {\n",
              "    background-color: var(--hover-bg-color);\n",
              "    box-shadow: 0 1px 2px rgba(60, 64, 67, 0.3), 0 1px 3px 1px rgba(60, 64, 67, 0.15);\n",
              "    fill: var(--button-hover-fill-color);\n",
              "  }\n",
              "\n",
              "  .colab-df-quickchart-complete:disabled,\n",
              "  .colab-df-quickchart-complete:disabled:hover {\n",
              "    background-color: var(--disabled-bg-color);\n",
              "    fill: var(--disabled-fill-color);\n",
              "    box-shadow: none;\n",
              "  }\n",
              "\n",
              "  .colab-df-spinner {\n",
              "    border: 2px solid var(--fill-color);\n",
              "    border-color: transparent;\n",
              "    border-bottom-color: var(--fill-color);\n",
              "    animation:\n",
              "      spin 1s steps(1) infinite;\n",
              "  }\n",
              "\n",
              "  @keyframes spin {\n",
              "    0% {\n",
              "      border-color: transparent;\n",
              "      border-bottom-color: var(--fill-color);\n",
              "      border-left-color: var(--fill-color);\n",
              "    }\n",
              "    20% {\n",
              "      border-color: transparent;\n",
              "      border-left-color: var(--fill-color);\n",
              "      border-top-color: var(--fill-color);\n",
              "    }\n",
              "    30% {\n",
              "      border-color: transparent;\n",
              "      border-left-color: var(--fill-color);\n",
              "      border-top-color: var(--fill-color);\n",
              "      border-right-color: var(--fill-color);\n",
              "    }\n",
              "    40% {\n",
              "      border-color: transparent;\n",
              "      border-right-color: var(--fill-color);\n",
              "      border-top-color: var(--fill-color);\n",
              "    }\n",
              "    60% {\n",
              "      border-color: transparent;\n",
              "      border-right-color: var(--fill-color);\n",
              "    }\n",
              "    80% {\n",
              "      border-color: transparent;\n",
              "      border-right-color: var(--fill-color);\n",
              "      border-bottom-color: var(--fill-color);\n",
              "    }\n",
              "    90% {\n",
              "      border-color: transparent;\n",
              "      border-bottom-color: var(--fill-color);\n",
              "    }\n",
              "  }\n",
              "</style>\n",
              "\n",
              "  <script>\n",
              "    async function quickchart(key) {\n",
              "      const quickchartButtonEl =\n",
              "        document.querySelector('#' + key + ' button');\n",
              "      quickchartButtonEl.disabled = true;  // To prevent multiple clicks.\n",
              "      quickchartButtonEl.classList.add('colab-df-spinner');\n",
              "      try {\n",
              "        const charts = await google.colab.kernel.invokeFunction(\n",
              "            'suggestCharts', [key], {});\n",
              "      } catch (error) {\n",
              "        console.error('Error during call to suggestCharts:', error);\n",
              "      }\n",
              "      quickchartButtonEl.classList.remove('colab-df-spinner');\n",
              "      quickchartButtonEl.classList.add('colab-df-quickchart-complete');\n",
              "    }\n",
              "    (() => {\n",
              "      let quickchartButtonEl =\n",
              "        document.querySelector('#df-8319da65-47bd-4cad-9700-ce5784bedc32 button');\n",
              "      quickchartButtonEl.style.display =\n",
              "        google.colab.kernel.accessAllowed ? 'block' : 'none';\n",
              "    })();\n",
              "  </script>\n",
              "</div>\n",
              "    </div>\n",
              "  </div>\n"
            ]
          },
          "metadata": {},
          "execution_count": 99
        }
      ]
    },
    {
      "cell_type": "markdown",
      "source": [
        "**therefore there is unwanted unknown column**"
      ],
      "metadata": {
        "id": "FH2KxIYOkq8q"
      }
    },
    {
      "cell_type": "code",
      "source": [
        "# using only required columns\n",
        "new_customer = new_customer.iloc[:,0:16]\n",
        "new_customer.info()"
      ],
      "metadata": {
        "colab": {
          "base_uri": "https://localhost:8080/"
        },
        "id": "NSgzajhSk0up",
        "outputId": "553cc559-3469-4cc2-9053-981e5302bdf6"
      },
      "execution_count": null,
      "outputs": [
        {
          "output_type": "stream",
          "name": "stdout",
          "text": [
            "<class 'pandas.core.frame.DataFrame'>\n",
            "RangeIndex: 1000 entries, 0 to 999\n",
            "Data columns (total 16 columns):\n",
            " #   Column                               Non-Null Count  Dtype         \n",
            "---  ------                               --------------  -----         \n",
            " 0   first_name                           1000 non-null   object        \n",
            " 1   last_name                            971 non-null    object        \n",
            " 2   gender                               1000 non-null   object        \n",
            " 3   past_3_years_bike_related_purchases  1000 non-null   int64         \n",
            " 4   DOB                                  983 non-null    datetime64[ns]\n",
            " 5   job_title                            894 non-null    object        \n",
            " 6   job_industry_category                835 non-null    object        \n",
            " 7   wealth_segment                       1000 non-null   object        \n",
            " 8   deceased_indicator                   1000 non-null   object        \n",
            " 9   owns_car                             1000 non-null   object        \n",
            " 10  tenure                               1000 non-null   int64         \n",
            " 11  address                              1000 non-null   object        \n",
            " 12  postcode                             1000 non-null   int64         \n",
            " 13  state                                1000 non-null   object        \n",
            " 14  country                              1000 non-null   object        \n",
            " 15  property_valuation                   1000 non-null   int64         \n",
            "dtypes: datetime64[ns](1), int64(4), object(11)\n",
            "memory usage: 125.1+ KB\n"
          ]
        }
      ]
    },
    {
      "cell_type": "code",
      "source": [
        "new_customer.isnull().sum()"
      ],
      "metadata": {
        "colab": {
          "base_uri": "https://localhost:8080/"
        },
        "id": "3MXBmoeolgf2",
        "outputId": "b7329c4d-bc78-4d24-a6cc-58c9f0c829e6"
      },
      "execution_count": null,
      "outputs": [
        {
          "output_type": "execute_result",
          "data": {
            "text/plain": [
              "first_name                               0\n",
              "last_name                               29\n",
              "gender                                   0\n",
              "past_3_years_bike_related_purchases      0\n",
              "DOB                                     17\n",
              "job_title                              106\n",
              "job_industry_category                  165\n",
              "wealth_segment                           0\n",
              "deceased_indicator                       0\n",
              "owns_car                                 0\n",
              "tenure                                   0\n",
              "address                                  0\n",
              "postcode                                 0\n",
              "state                                    0\n",
              "country                                  0\n",
              "property_valuation                       0\n",
              "dtype: int64"
            ]
          },
          "metadata": {},
          "execution_count": 101
        }
      ]
    },
    {
      "cell_type": "markdown",
      "source": [
        "\n",
        "\n",
        "**There are null values in 4 columns , so it can be drop or fill on the basis of further analysis**\n",
        "\n",
        "\n"
      ],
      "metadata": {
        "id": "3Os7P7FIlq4E"
      }
    },
    {
      "cell_type": "code",
      "source": [
        "new_customer.duplicated().sum()"
      ],
      "metadata": {
        "colab": {
          "base_uri": "https://localhost:8080/"
        },
        "id": "arx4OIGtmDMj",
        "outputId": "fb1dddf2-a715-4c74-f46e-758fe87302f4"
      },
      "execution_count": null,
      "outputs": [
        {
          "output_type": "execute_result",
          "data": {
            "text/plain": [
              "0"
            ]
          },
          "metadata": {},
          "execution_count": 102
        }
      ]
    },
    {
      "cell_type": "markdown",
      "source": [
        "\n",
        "\n",
        "**There are no duplicate value , it means there are unique values**\n",
        "\n",
        "\n",
        "\n",
        "\n"
      ],
      "metadata": {
        "id": "V2sZW5PjmNRf"
      }
    },
    {
      "cell_type": "code",
      "source": [
        "# Exploring columns\n",
        "new_customer.dtypes"
      ],
      "metadata": {
        "colab": {
          "base_uri": "https://localhost:8080/"
        },
        "id": "f4lRPy_VmgVa",
        "outputId": "514460cf-38de-4d8f-a56b-d2204b7c6c69"
      },
      "execution_count": null,
      "outputs": [
        {
          "output_type": "execute_result",
          "data": {
            "text/plain": [
              "first_name                                     object\n",
              "last_name                                      object\n",
              "gender                                         object\n",
              "past_3_years_bike_related_purchases             int64\n",
              "DOB                                    datetime64[ns]\n",
              "job_title                                      object\n",
              "job_industry_category                          object\n",
              "wealth_segment                                 object\n",
              "deceased_indicator                             object\n",
              "owns_car                                       object\n",
              "tenure                                          int64\n",
              "address                                        object\n",
              "postcode                                        int64\n",
              "state                                          object\n",
              "country                                        object\n",
              "property_valuation                              int64\n",
              "dtype: object"
            ]
          },
          "metadata": {},
          "execution_count": 103
        }
      ]
    },
    {
      "cell_type": "code",
      "source": [
        "cols = [\"gender\" , \"job_title\" ,\"job_industry_category\",\"wealth_segment\",\"deceased_indicator\",\"owns_car\", \"country\"]\n",
        "\n",
        "for i in cols:\n",
        "  a = new_customer[i].value_counts()\n",
        "  print(a)\n",
        "  print(\"------------------------------------------------\")"
      ],
      "metadata": {
        "colab": {
          "base_uri": "https://localhost:8080/"
        },
        "id": "VbWc78QGm5y8",
        "outputId": "dd28f374-05c8-4cc0-e044-6a0cc62e1991"
      },
      "execution_count": null,
      "outputs": [
        {
          "output_type": "stream",
          "name": "stdout",
          "text": [
            "Female    513\n",
            "Male      470\n",
            "U          17\n",
            "Name: gender, dtype: int64\n",
            "------------------------------------------------\n",
            "Associate Professor         15\n",
            "Environmental Tech          14\n",
            "Software Consultant         14\n",
            "Chief Design Engineer       13\n",
            "Assistant Manager           12\n",
            "                            ..\n",
            "Accountant II                1\n",
            "Programmer IV                1\n",
            "Administrative Officer       1\n",
            "Accounting Assistant III     1\n",
            "Web Developer I              1\n",
            "Name: job_title, Length: 184, dtype: int64\n",
            "------------------------------------------------\n",
            "Financial Services    203\n",
            "Manufacturing         199\n",
            "Health                152\n",
            "Retail                 78\n",
            "Property               64\n",
            "IT                     51\n",
            "Entertainment          37\n",
            "Argiculture            26\n",
            "Telecommunications     25\n",
            "Name: job_industry_category, dtype: int64\n",
            "------------------------------------------------\n",
            "Mass Customer        508\n",
            "High Net Worth       251\n",
            "Affluent Customer    241\n",
            "Name: wealth_segment, dtype: int64\n",
            "------------------------------------------------\n",
            "N    1000\n",
            "Name: deceased_indicator, dtype: int64\n",
            "------------------------------------------------\n",
            "No     507\n",
            "Yes    493\n",
            "Name: owns_car, dtype: int64\n",
            "------------------------------------------------\n",
            "Australia    1000\n",
            "Name: country, dtype: int64\n",
            "------------------------------------------------\n"
          ]
        }
      ]
    },
    {
      "cell_type": "markdown",
      "source": [
        "### **There are 17 unspecified gender**"
      ],
      "metadata": {
        "id": "oUq2xfEvp_v2"
      }
    },
    {
      "cell_type": "code",
      "source": [
        "new_customer[\"past_3_years_bike_related_purchases\"].value_counts()"
      ],
      "metadata": {
        "colab": {
          "base_uri": "https://localhost:8080/"
        },
        "id": "GSV3P1yqoVXc",
        "outputId": "bfc01290-7127-40e8-f635-d14a6838bb58"
      },
      "execution_count": null,
      "outputs": [
        {
          "output_type": "execute_result",
          "data": {
            "text/plain": [
              "60    20\n",
              "59    18\n",
              "42    17\n",
              "70    17\n",
              "11    16\n",
              "      ..\n",
              "19     5\n",
              "9      5\n",
              "92     5\n",
              "85     4\n",
              "20     3\n",
              "Name: past_3_years_bike_related_purchases, Length: 100, dtype: int64"
            ]
          },
          "metadata": {},
          "execution_count": 105
        }
      ]
    },
    {
      "cell_type": "code",
      "source": [
        "print(new_customer[\"DOB\"].value_counts())\n",
        "print(new_customer[\"DOB\"].min())"
      ],
      "metadata": {
        "colab": {
          "base_uri": "https://localhost:8080/"
        },
        "id": "TfbzGgi5ovx7",
        "outputId": "65af38db-4852-469a-ab50-ddb74a236ac3"
      },
      "execution_count": null,
      "outputs": [
        {
          "output_type": "stream",
          "name": "stdout",
          "text": [
            "1998-02-05    2\n",
            "1978-01-15    2\n",
            "1977-11-08    2\n",
            "1951-11-28    2\n",
            "1979-07-28    2\n",
            "             ..\n",
            "1945-08-08    1\n",
            "1943-08-27    1\n",
            "1999-10-24    1\n",
            "1976-01-24    1\n",
            "1955-10-02    1\n",
            "Name: DOB, Length: 958, dtype: int64\n",
            "1938-06-08 00:00:00\n"
          ]
        }
      ]
    },
    {
      "cell_type": "markdown",
      "source": [
        "# **Exploring Customer Demographic**"
      ],
      "metadata": {
        "id": "DCwOi1pNqXiT"
      }
    },
    {
      "cell_type": "code",
      "source": [
        "customer_demographic.shape"
      ],
      "metadata": {
        "colab": {
          "base_uri": "https://localhost:8080/"
        },
        "id": "vM3KTT4iqmT9",
        "outputId": "00c45843-a9fd-4303-bb87-cc9ff26835bc"
      },
      "execution_count": null,
      "outputs": [
        {
          "output_type": "execute_result",
          "data": {
            "text/plain": [
              "(4000, 13)"
            ]
          },
          "metadata": {},
          "execution_count": 107
        }
      ]
    },
    {
      "cell_type": "code",
      "source": [
        "customer_demographic.columns"
      ],
      "metadata": {
        "colab": {
          "base_uri": "https://localhost:8080/"
        },
        "id": "8d7u7dCFqu_x",
        "outputId": "fa6c29a3-071f-4292-f2c5-cf219b74ea19"
      },
      "execution_count": null,
      "outputs": [
        {
          "output_type": "execute_result",
          "data": {
            "text/plain": [
              "Index(['customer_id', 'first_name', 'last_name', 'gender',\n",
              "       'past_3_years_bike_related_purchases', 'DOB', 'job_title',\n",
              "       'job_industry_category', 'wealth_segment', 'deceased_indicator',\n",
              "       'default', 'owns_car', 'tenure'],\n",
              "      dtype='object')"
            ]
          },
          "metadata": {},
          "execution_count": 108
        }
      ]
    },
    {
      "cell_type": "code",
      "source": [
        "customer_demographic.head()"
      ],
      "metadata": {
        "colab": {
          "base_uri": "https://localhost:8080/",
          "height": 330
        },
        "id": "kZ7NTpbWqzTi",
        "outputId": "d8ee47b4-2448-4559-beb4-beaffb715a49"
      },
      "execution_count": null,
      "outputs": [
        {
          "output_type": "execute_result",
          "data": {
            "text/plain": [
              "   customer_id      first_name  last_name  gender  \\\n",
              "0            1         Laraine  Medendorp       F   \n",
              "1            2             Eli    Bockman    Male   \n",
              "2            3           Arlin     Dearle    Male   \n",
              "3            4          Talbot        NaN    Male   \n",
              "4            5  Sheila-kathryn     Calton  Female   \n",
              "\n",
              "   past_3_years_bike_related_purchases        DOB               job_title  \\\n",
              "0                                   93 1953-10-12     Executive Secretary   \n",
              "1                                   81 1980-12-16  Administrative Officer   \n",
              "2                                   61 1954-01-20      Recruiting Manager   \n",
              "3                                   33 1961-10-03                     NaN   \n",
              "4                                   56 1977-05-13           Senior Editor   \n",
              "\n",
              "  job_industry_category     wealth_segment deceased_indicator  \\\n",
              "0                Health      Mass Customer                  N   \n",
              "1    Financial Services      Mass Customer                  N   \n",
              "2              Property      Mass Customer                  N   \n",
              "3                    IT      Mass Customer                  N   \n",
              "4                   NaN  Affluent Customer                  N   \n",
              "\n",
              "                                             default owns_car  tenure  \n",
              "0                                                 \"'      Yes    11.0  \n",
              "1                       <script>alert('hi')</script>      Yes    16.0  \n",
              "2                                2018-02-01 00:00:00      Yes    15.0  \n",
              "3  () { _; } >_[$($())] { touch /tmp/blns.shellsh...       No     7.0  \n",
              "4                                                NIL      Yes     8.0  "
            ],
            "text/html": [
              "\n",
              "  <div id=\"df-77499134-2679-431f-87a1-62efff3c381a\" class=\"colab-df-container\">\n",
              "    <div>\n",
              "<style scoped>\n",
              "    .dataframe tbody tr th:only-of-type {\n",
              "        vertical-align: middle;\n",
              "    }\n",
              "\n",
              "    .dataframe tbody tr th {\n",
              "        vertical-align: top;\n",
              "    }\n",
              "\n",
              "    .dataframe thead th {\n",
              "        text-align: right;\n",
              "    }\n",
              "</style>\n",
              "<table border=\"1\" class=\"dataframe\">\n",
              "  <thead>\n",
              "    <tr style=\"text-align: right;\">\n",
              "      <th></th>\n",
              "      <th>customer_id</th>\n",
              "      <th>first_name</th>\n",
              "      <th>last_name</th>\n",
              "      <th>gender</th>\n",
              "      <th>past_3_years_bike_related_purchases</th>\n",
              "      <th>DOB</th>\n",
              "      <th>job_title</th>\n",
              "      <th>job_industry_category</th>\n",
              "      <th>wealth_segment</th>\n",
              "      <th>deceased_indicator</th>\n",
              "      <th>default</th>\n",
              "      <th>owns_car</th>\n",
              "      <th>tenure</th>\n",
              "    </tr>\n",
              "  </thead>\n",
              "  <tbody>\n",
              "    <tr>\n",
              "      <th>0</th>\n",
              "      <td>1</td>\n",
              "      <td>Laraine</td>\n",
              "      <td>Medendorp</td>\n",
              "      <td>F</td>\n",
              "      <td>93</td>\n",
              "      <td>1953-10-12</td>\n",
              "      <td>Executive Secretary</td>\n",
              "      <td>Health</td>\n",
              "      <td>Mass Customer</td>\n",
              "      <td>N</td>\n",
              "      <td>\"'</td>\n",
              "      <td>Yes</td>\n",
              "      <td>11.0</td>\n",
              "    </tr>\n",
              "    <tr>\n",
              "      <th>1</th>\n",
              "      <td>2</td>\n",
              "      <td>Eli</td>\n",
              "      <td>Bockman</td>\n",
              "      <td>Male</td>\n",
              "      <td>81</td>\n",
              "      <td>1980-12-16</td>\n",
              "      <td>Administrative Officer</td>\n",
              "      <td>Financial Services</td>\n",
              "      <td>Mass Customer</td>\n",
              "      <td>N</td>\n",
              "      <td>&lt;script&gt;alert('hi')&lt;/script&gt;</td>\n",
              "      <td>Yes</td>\n",
              "      <td>16.0</td>\n",
              "    </tr>\n",
              "    <tr>\n",
              "      <th>2</th>\n",
              "      <td>3</td>\n",
              "      <td>Arlin</td>\n",
              "      <td>Dearle</td>\n",
              "      <td>Male</td>\n",
              "      <td>61</td>\n",
              "      <td>1954-01-20</td>\n",
              "      <td>Recruiting Manager</td>\n",
              "      <td>Property</td>\n",
              "      <td>Mass Customer</td>\n",
              "      <td>N</td>\n",
              "      <td>2018-02-01 00:00:00</td>\n",
              "      <td>Yes</td>\n",
              "      <td>15.0</td>\n",
              "    </tr>\n",
              "    <tr>\n",
              "      <th>3</th>\n",
              "      <td>4</td>\n",
              "      <td>Talbot</td>\n",
              "      <td>NaN</td>\n",
              "      <td>Male</td>\n",
              "      <td>33</td>\n",
              "      <td>1961-10-03</td>\n",
              "      <td>NaN</td>\n",
              "      <td>IT</td>\n",
              "      <td>Mass Customer</td>\n",
              "      <td>N</td>\n",
              "      <td>() { _; } &gt;_[$($())] { touch /tmp/blns.shellsh...</td>\n",
              "      <td>No</td>\n",
              "      <td>7.0</td>\n",
              "    </tr>\n",
              "    <tr>\n",
              "      <th>4</th>\n",
              "      <td>5</td>\n",
              "      <td>Sheila-kathryn</td>\n",
              "      <td>Calton</td>\n",
              "      <td>Female</td>\n",
              "      <td>56</td>\n",
              "      <td>1977-05-13</td>\n",
              "      <td>Senior Editor</td>\n",
              "      <td>NaN</td>\n",
              "      <td>Affluent Customer</td>\n",
              "      <td>N</td>\n",
              "      <td>NIL</td>\n",
              "      <td>Yes</td>\n",
              "      <td>8.0</td>\n",
              "    </tr>\n",
              "  </tbody>\n",
              "</table>\n",
              "</div>\n",
              "    <div class=\"colab-df-buttons\">\n",
              "\n",
              "  <div class=\"colab-df-container\">\n",
              "    <button class=\"colab-df-convert\" onclick=\"convertToInteractive('df-77499134-2679-431f-87a1-62efff3c381a')\"\n",
              "            title=\"Convert this dataframe to an interactive table.\"\n",
              "            style=\"display:none;\">\n",
              "\n",
              "  <svg xmlns=\"http://www.w3.org/2000/svg\" height=\"24px\" viewBox=\"0 -960 960 960\">\n",
              "    <path d=\"M120-120v-720h720v720H120Zm60-500h600v-160H180v160Zm220 220h160v-160H400v160Zm0 220h160v-160H400v160ZM180-400h160v-160H180v160Zm440 0h160v-160H620v160ZM180-180h160v-160H180v160Zm440 0h160v-160H620v160Z\"/>\n",
              "  </svg>\n",
              "    </button>\n",
              "\n",
              "  <style>\n",
              "    .colab-df-container {\n",
              "      display:flex;\n",
              "      gap: 12px;\n",
              "    }\n",
              "\n",
              "    .colab-df-convert {\n",
              "      background-color: #E8F0FE;\n",
              "      border: none;\n",
              "      border-radius: 50%;\n",
              "      cursor: pointer;\n",
              "      display: none;\n",
              "      fill: #1967D2;\n",
              "      height: 32px;\n",
              "      padding: 0 0 0 0;\n",
              "      width: 32px;\n",
              "    }\n",
              "\n",
              "    .colab-df-convert:hover {\n",
              "      background-color: #E2EBFA;\n",
              "      box-shadow: 0px 1px 2px rgba(60, 64, 67, 0.3), 0px 1px 3px 1px rgba(60, 64, 67, 0.15);\n",
              "      fill: #174EA6;\n",
              "    }\n",
              "\n",
              "    .colab-df-buttons div {\n",
              "      margin-bottom: 4px;\n",
              "    }\n",
              "\n",
              "    [theme=dark] .colab-df-convert {\n",
              "      background-color: #3B4455;\n",
              "      fill: #D2E3FC;\n",
              "    }\n",
              "\n",
              "    [theme=dark] .colab-df-convert:hover {\n",
              "      background-color: #434B5C;\n",
              "      box-shadow: 0px 1px 3px 1px rgba(0, 0, 0, 0.15);\n",
              "      filter: drop-shadow(0px 1px 2px rgba(0, 0, 0, 0.3));\n",
              "      fill: #FFFFFF;\n",
              "    }\n",
              "  </style>\n",
              "\n",
              "    <script>\n",
              "      const buttonEl =\n",
              "        document.querySelector('#df-77499134-2679-431f-87a1-62efff3c381a button.colab-df-convert');\n",
              "      buttonEl.style.display =\n",
              "        google.colab.kernel.accessAllowed ? 'block' : 'none';\n",
              "\n",
              "      async function convertToInteractive(key) {\n",
              "        const element = document.querySelector('#df-77499134-2679-431f-87a1-62efff3c381a');\n",
              "        const dataTable =\n",
              "          await google.colab.kernel.invokeFunction('convertToInteractive',\n",
              "                                                    [key], {});\n",
              "        if (!dataTable) return;\n",
              "\n",
              "        const docLinkHtml = 'Like what you see? Visit the ' +\n",
              "          '<a target=\"_blank\" href=https://colab.research.google.com/notebooks/data_table.ipynb>data table notebook</a>'\n",
              "          + ' to learn more about interactive tables.';\n",
              "        element.innerHTML = '';\n",
              "        dataTable['output_type'] = 'display_data';\n",
              "        await google.colab.output.renderOutput(dataTable, element);\n",
              "        const docLink = document.createElement('div');\n",
              "        docLink.innerHTML = docLinkHtml;\n",
              "        element.appendChild(docLink);\n",
              "      }\n",
              "    </script>\n",
              "  </div>\n",
              "\n",
              "\n",
              "<div id=\"df-7cab7f5e-347f-4008-9af2-1b399ba9ec57\">\n",
              "  <button class=\"colab-df-quickchart\" onclick=\"quickchart('df-7cab7f5e-347f-4008-9af2-1b399ba9ec57')\"\n",
              "            title=\"Suggest charts.\"\n",
              "            style=\"display:none;\">\n",
              "\n",
              "<svg xmlns=\"http://www.w3.org/2000/svg\" height=\"24px\"viewBox=\"0 0 24 24\"\n",
              "     width=\"24px\">\n",
              "    <g>\n",
              "        <path d=\"M19 3H5c-1.1 0-2 .9-2 2v14c0 1.1.9 2 2 2h14c1.1 0 2-.9 2-2V5c0-1.1-.9-2-2-2zM9 17H7v-7h2v7zm4 0h-2V7h2v10zm4 0h-2v-4h2v4z\"/>\n",
              "    </g>\n",
              "</svg>\n",
              "  </button>\n",
              "\n",
              "<style>\n",
              "  .colab-df-quickchart {\n",
              "      --bg-color: #E8F0FE;\n",
              "      --fill-color: #1967D2;\n",
              "      --hover-bg-color: #E2EBFA;\n",
              "      --hover-fill-color: #174EA6;\n",
              "      --disabled-fill-color: #AAA;\n",
              "      --disabled-bg-color: #DDD;\n",
              "  }\n",
              "\n",
              "  [theme=dark] .colab-df-quickchart {\n",
              "      --bg-color: #3B4455;\n",
              "      --fill-color: #D2E3FC;\n",
              "      --hover-bg-color: #434B5C;\n",
              "      --hover-fill-color: #FFFFFF;\n",
              "      --disabled-bg-color: #3B4455;\n",
              "      --disabled-fill-color: #666;\n",
              "  }\n",
              "\n",
              "  .colab-df-quickchart {\n",
              "    background-color: var(--bg-color);\n",
              "    border: none;\n",
              "    border-radius: 50%;\n",
              "    cursor: pointer;\n",
              "    display: none;\n",
              "    fill: var(--fill-color);\n",
              "    height: 32px;\n",
              "    padding: 0;\n",
              "    width: 32px;\n",
              "  }\n",
              "\n",
              "  .colab-df-quickchart:hover {\n",
              "    background-color: var(--hover-bg-color);\n",
              "    box-shadow: 0 1px 2px rgba(60, 64, 67, 0.3), 0 1px 3px 1px rgba(60, 64, 67, 0.15);\n",
              "    fill: var(--button-hover-fill-color);\n",
              "  }\n",
              "\n",
              "  .colab-df-quickchart-complete:disabled,\n",
              "  .colab-df-quickchart-complete:disabled:hover {\n",
              "    background-color: var(--disabled-bg-color);\n",
              "    fill: var(--disabled-fill-color);\n",
              "    box-shadow: none;\n",
              "  }\n",
              "\n",
              "  .colab-df-spinner {\n",
              "    border: 2px solid var(--fill-color);\n",
              "    border-color: transparent;\n",
              "    border-bottom-color: var(--fill-color);\n",
              "    animation:\n",
              "      spin 1s steps(1) infinite;\n",
              "  }\n",
              "\n",
              "  @keyframes spin {\n",
              "    0% {\n",
              "      border-color: transparent;\n",
              "      border-bottom-color: var(--fill-color);\n",
              "      border-left-color: var(--fill-color);\n",
              "    }\n",
              "    20% {\n",
              "      border-color: transparent;\n",
              "      border-left-color: var(--fill-color);\n",
              "      border-top-color: var(--fill-color);\n",
              "    }\n",
              "    30% {\n",
              "      border-color: transparent;\n",
              "      border-left-color: var(--fill-color);\n",
              "      border-top-color: var(--fill-color);\n",
              "      border-right-color: var(--fill-color);\n",
              "    }\n",
              "    40% {\n",
              "      border-color: transparent;\n",
              "      border-right-color: var(--fill-color);\n",
              "      border-top-color: var(--fill-color);\n",
              "    }\n",
              "    60% {\n",
              "      border-color: transparent;\n",
              "      border-right-color: var(--fill-color);\n",
              "    }\n",
              "    80% {\n",
              "      border-color: transparent;\n",
              "      border-right-color: var(--fill-color);\n",
              "      border-bottom-color: var(--fill-color);\n",
              "    }\n",
              "    90% {\n",
              "      border-color: transparent;\n",
              "      border-bottom-color: var(--fill-color);\n",
              "    }\n",
              "  }\n",
              "</style>\n",
              "\n",
              "  <script>\n",
              "    async function quickchart(key) {\n",
              "      const quickchartButtonEl =\n",
              "        document.querySelector('#' + key + ' button');\n",
              "      quickchartButtonEl.disabled = true;  // To prevent multiple clicks.\n",
              "      quickchartButtonEl.classList.add('colab-df-spinner');\n",
              "      try {\n",
              "        const charts = await google.colab.kernel.invokeFunction(\n",
              "            'suggestCharts', [key], {});\n",
              "      } catch (error) {\n",
              "        console.error('Error during call to suggestCharts:', error);\n",
              "      }\n",
              "      quickchartButtonEl.classList.remove('colab-df-spinner');\n",
              "      quickchartButtonEl.classList.add('colab-df-quickchart-complete');\n",
              "    }\n",
              "    (() => {\n",
              "      let quickchartButtonEl =\n",
              "        document.querySelector('#df-7cab7f5e-347f-4008-9af2-1b399ba9ec57 button');\n",
              "      quickchartButtonEl.style.display =\n",
              "        google.colab.kernel.accessAllowed ? 'block' : 'none';\n",
              "    })();\n",
              "  </script>\n",
              "</div>\n",
              "    </div>\n",
              "  </div>\n"
            ]
          },
          "metadata": {},
          "execution_count": 109
        }
      ]
    },
    {
      "cell_type": "code",
      "source": [
        "customer_demographic.isnull().sum()"
      ],
      "metadata": {
        "colab": {
          "base_uri": "https://localhost:8080/"
        },
        "id": "XN8oeuEhq7jR",
        "outputId": "43093cbd-b4c4-4c02-8568-722aa1c58d3a"
      },
      "execution_count": null,
      "outputs": [
        {
          "output_type": "execute_result",
          "data": {
            "text/plain": [
              "customer_id                              0\n",
              "first_name                               0\n",
              "last_name                              125\n",
              "gender                                   0\n",
              "past_3_years_bike_related_purchases      0\n",
              "DOB                                     87\n",
              "job_title                              506\n",
              "job_industry_category                  656\n",
              "wealth_segment                           0\n",
              "deceased_indicator                       0\n",
              "default                                302\n",
              "owns_car                                 0\n",
              "tenure                                  87\n",
              "dtype: int64"
            ]
          },
          "metadata": {},
          "execution_count": 110
        }
      ]
    },
    {
      "cell_type": "markdown",
      "source": [
        "`There are null value in 6 columns`"
      ],
      "metadata": {
        "id": "WKMmsFHArJuc"
      }
    },
    {
      "cell_type": "code",
      "source": [
        "customer_demographic.duplicated().sum()"
      ],
      "metadata": {
        "colab": {
          "base_uri": "https://localhost:8080/"
        },
        "id": "WQ9jPthprTCr",
        "outputId": "bec2b956-e9a6-48db-8f7a-0e2fba21e70b"
      },
      "execution_count": null,
      "outputs": [
        {
          "output_type": "execute_result",
          "data": {
            "text/plain": [
              "0"
            ]
          },
          "metadata": {},
          "execution_count": 111
        }
      ]
    },
    {
      "cell_type": "markdown",
      "source": [
        "**There are all unique values**"
      ],
      "metadata": {
        "id": "2nu47vpsrnXk"
      }
    },
    {
      "cell_type": "code",
      "source": [
        "# Exploring columns\n",
        "\n",
        "col = [\"customer_id\",\n",
        "\"first_name\",\n",
        "\"last_name\",\n",
        "\"gender\",\n",
        "\"past_3_years_bike_related_purchases\",\n",
        "\"DOB\",\n",
        "\"job_title\",\n",
        "\"job_industry_category\",\n",
        "\"wealth_segment\",\n",
        "\"deceased_indicator\",\n",
        "\"default\",\n",
        "\"owns_car\",\n",
        "\"tenure\"]\n",
        "\n",
        "for i in col:\n",
        "  a = customer_demographic[i].value_counts()\n",
        "  print(a)\n",
        "  print(\"-----------------------------------------------------------\\n\")"
      ],
      "metadata": {
        "colab": {
          "base_uri": "https://localhost:8080/"
        },
        "id": "KxrvrGX2rtY0",
        "outputId": "bf01bab6-a622-4f58-8f6d-c7124e0e0b4f"
      },
      "execution_count": null,
      "outputs": [
        {
          "output_type": "stream",
          "name": "stdout",
          "text": [
            "1       1\n",
            "2672    1\n",
            "2659    1\n",
            "2660    1\n",
            "2661    1\n",
            "       ..\n",
            "1339    1\n",
            "1340    1\n",
            "1341    1\n",
            "1342    1\n",
            "4000    1\n",
            "Name: customer_id, Length: 4000, dtype: int64\n",
            "-----------------------------------------------------------\n",
            "\n",
            "Max         5\n",
            "Tobe        5\n",
            "Timmie      5\n",
            "Kippy       4\n",
            "Pail        4\n",
            "           ..\n",
            "Katy        1\n",
            "Hakim       1\n",
            "Fanchon     1\n",
            "Jeanette    1\n",
            "Sarene      1\n",
            "Name: first_name, Length: 3139, dtype: int64\n",
            "-----------------------------------------------------------\n",
            "\n",
            "Pristnor     3\n",
            "Ramsdell     3\n",
            "Eager        2\n",
            "Zisneros     2\n",
            "Dredge       2\n",
            "            ..\n",
            "Whittock     1\n",
            "Carwithen    1\n",
            "Blas         1\n",
            "Dearlove     1\n",
            "Oldland      1\n",
            "Name: last_name, Length: 3725, dtype: int64\n",
            "-----------------------------------------------------------\n",
            "\n",
            "Female    2037\n",
            "Male      1872\n",
            "U           88\n",
            "F            1\n",
            "Femal        1\n",
            "M            1\n",
            "Name: gender, dtype: int64\n",
            "-----------------------------------------------------------\n",
            "\n",
            "16    56\n",
            "19    56\n",
            "67    54\n",
            "20    54\n",
            "2     50\n",
            "      ..\n",
            "8     28\n",
            "95    27\n",
            "85    27\n",
            "86    27\n",
            "92    24\n",
            "Name: past_3_years_bike_related_purchases, Length: 100, dtype: int64\n",
            "-----------------------------------------------------------\n",
            "\n",
            "1978-01-30    7\n",
            "1964-07-08    4\n",
            "1962-12-17    4\n",
            "1978-08-19    4\n",
            "1977-05-13    4\n",
            "             ..\n",
            "1989-06-16    1\n",
            "1998-09-30    1\n",
            "1985-03-11    1\n",
            "1989-10-23    1\n",
            "1991-11-05    1\n",
            "Name: DOB, Length: 3448, dtype: int64\n",
            "-----------------------------------------------------------\n",
            "\n",
            "Business Systems Development Analyst    45\n",
            "Tax Accountant                          44\n",
            "Social Worker                           44\n",
            "Internal Auditor                        42\n",
            "Recruiting Manager                      41\n",
            "                                        ..\n",
            "Database Administrator I                 4\n",
            "Health Coach I                           3\n",
            "Health Coach III                         3\n",
            "Research Assistant III                   3\n",
            "Developer I                              1\n",
            "Name: job_title, Length: 195, dtype: int64\n",
            "-----------------------------------------------------------\n",
            "\n",
            "Manufacturing         799\n",
            "Financial Services    774\n",
            "Health                602\n",
            "Retail                358\n",
            "Property              267\n",
            "IT                    223\n",
            "Entertainment         136\n",
            "Argiculture           113\n",
            "Telecommunications     72\n",
            "Name: job_industry_category, dtype: int64\n",
            "-----------------------------------------------------------\n",
            "\n",
            "Mass Customer        2000\n",
            "High Net Worth       1021\n",
            "Affluent Customer     979\n",
            "Name: wealth_segment, dtype: int64\n",
            "-----------------------------------------------------------\n",
            "\n",
            "N    3998\n",
            "Y       2\n",
            "Name: deceased_indicator, dtype: int64\n",
            "-----------------------------------------------------------\n",
            "\n",
            "100                                       113\n",
            "1                                         112\n",
            "-1                                        111\n",
            "-100                                       99\n",
            "Ù¡Ù¢Ù£                                     53\n",
            "                                         ... \n",
            "testâ testâ«                               31\n",
            "/dev/null; touch /tmp/blns.fail ; echo     30\n",
            "âªâªtestâª                                 29\n",
            "ì¸ëë°í ë¥´                                 27\n",
            ",ãã»:*:ã»ãâ( â» Ï â» )ãã»:*:ã»ãâ           25\n",
            "Name: default, Length: 90, dtype: int64\n",
            "-----------------------------------------------------------\n",
            "\n",
            "Yes    2024\n",
            "No     1976\n",
            "Name: owns_car, dtype: int64\n",
            "-----------------------------------------------------------\n",
            "\n",
            "7.0     235\n",
            "5.0     228\n",
            "11.0    221\n",
            "10.0    218\n",
            "16.0    215\n",
            "8.0     211\n",
            "18.0    208\n",
            "12.0    202\n",
            "9.0     200\n",
            "14.0    200\n",
            "6.0     192\n",
            "13.0    191\n",
            "4.0     191\n",
            "17.0    182\n",
            "15.0    179\n",
            "1.0     166\n",
            "3.0     160\n",
            "19.0    159\n",
            "2.0     150\n",
            "20.0     96\n",
            "22.0     55\n",
            "21.0     54\n",
            "Name: tenure, dtype: int64\n",
            "-----------------------------------------------------------\n",
            "\n"
          ]
        }
      ]
    },
    {
      "cell_type": "code",
      "source": [
        "customer_demographic[\"gender\"].value_counts()"
      ],
      "metadata": {
        "colab": {
          "base_uri": "https://localhost:8080/"
        },
        "id": "Y0b5TfljtXLv",
        "outputId": "943369a1-141e-4c76-f880-f2154ef7090d"
      },
      "execution_count": null,
      "outputs": [
        {
          "output_type": "execute_result",
          "data": {
            "text/plain": [
              "Female    2037\n",
              "Male      1872\n",
              "U           88\n",
              "F            1\n",
              "Femal        1\n",
              "M            1\n",
              "Name: gender, dtype: int64"
            ]
          },
          "metadata": {},
          "execution_count": 113
        }
      ]
    },
    {
      "cell_type": "markdown",
      "source": [
        "`in gender some title are not properly specified`"
      ],
      "metadata": {
        "id": "EtechXnltkEN"
      }
    },
    {
      "cell_type": "code",
      "source": [
        "# renaming the title in gender\n",
        "\n",
        "customer_demographic[\"gender\"] = customer_demographic[\"gender\"].replace(\"M\" ,\"Male\").replace(\"F\",\"Female\").replace(\"Femal\",\"Female\")\n",
        "customer_demographic[\"gender\"].value_counts()"
      ],
      "metadata": {
        "colab": {
          "base_uri": "https://localhost:8080/"
        },
        "id": "rbWw5I5ituqV",
        "outputId": "8521e424-8bd6-4501-815f-9d2cbe150593"
      },
      "execution_count": null,
      "outputs": [
        {
          "output_type": "execute_result",
          "data": {
            "text/plain": [
              "Female    2039\n",
              "Male      1873\n",
              "U           88\n",
              "Name: gender, dtype: int64"
            ]
          },
          "metadata": {},
          "execution_count": 114
        }
      ]
    },
    {
      "cell_type": "code",
      "source": [
        "customer_demographic[\"default\"].value_counts()"
      ],
      "metadata": {
        "colab": {
          "base_uri": "https://localhost:8080/"
        },
        "id": "L0b9uL4huwlm",
        "outputId": "610b6a09-739e-40b6-efff-edd0c1ef06be"
      },
      "execution_count": null,
      "outputs": [
        {
          "output_type": "execute_result",
          "data": {
            "text/plain": [
              "100                                       113\n",
              "1                                         112\n",
              "-1                                        111\n",
              "-100                                       99\n",
              "Ù¡Ù¢Ù£                                     53\n",
              "                                         ... \n",
              "testâ testâ«                               31\n",
              "/dev/null; touch /tmp/blns.fail ; echo     30\n",
              "âªâªtestâª                                 29\n",
              "ì¸ëë°í ë¥´                                 27\n",
              ",ãã»:*:ã»ãâ( â» Ï â» )ãã»:*:ã»ãâ           25\n",
              "Name: default, Length: 90, dtype: int64"
            ]
          },
          "metadata": {},
          "execution_count": 115
        }
      ]
    },
    {
      "cell_type": "markdown",
      "source": [
        "### **This values are inconsistent , it means this columns ie unneccesary so dropping it**"
      ],
      "metadata": {
        "id": "CZ4Sw57Qu81N"
      }
    },
    {
      "cell_type": "code",
      "source": [
        "customer_demographic = customer_demographic.drop(columns = \"default\" , axis = 1)\n"
      ],
      "metadata": {
        "id": "aRcUdttpvMgG"
      },
      "execution_count": null,
      "outputs": []
    },
    {
      "cell_type": "code",
      "source": [
        "customer_demographic.info()"
      ],
      "metadata": {
        "colab": {
          "base_uri": "https://localhost:8080/"
        },
        "id": "3jBrSEFOvqJG",
        "outputId": "cbdccae0-72d9-405f-fa1c-a4dc19d50874"
      },
      "execution_count": null,
      "outputs": [
        {
          "output_type": "stream",
          "name": "stdout",
          "text": [
            "<class 'pandas.core.frame.DataFrame'>\n",
            "RangeIndex: 4000 entries, 0 to 3999\n",
            "Data columns (total 12 columns):\n",
            " #   Column                               Non-Null Count  Dtype         \n",
            "---  ------                               --------------  -----         \n",
            " 0   customer_id                          4000 non-null   int64         \n",
            " 1   first_name                           4000 non-null   object        \n",
            " 2   last_name                            3875 non-null   object        \n",
            " 3   gender                               4000 non-null   object        \n",
            " 4   past_3_years_bike_related_purchases  4000 non-null   int64         \n",
            " 5   DOB                                  3913 non-null   datetime64[ns]\n",
            " 6   job_title                            3494 non-null   object        \n",
            " 7   job_industry_category                3344 non-null   object        \n",
            " 8   wealth_segment                       4000 non-null   object        \n",
            " 9   deceased_indicator                   4000 non-null   object        \n",
            " 10  owns_car                             4000 non-null   object        \n",
            " 11  tenure                               3913 non-null   float64       \n",
            "dtypes: datetime64[ns](1), float64(1), int64(2), object(8)\n",
            "memory usage: 375.1+ KB\n"
          ]
        }
      ]
    },
    {
      "cell_type": "markdown",
      "source": [
        "# **Exploring Customer Address**"
      ],
      "metadata": {
        "id": "2no86oHzwAye"
      }
    },
    {
      "cell_type": "code",
      "source": [
        "customer_address.shape"
      ],
      "metadata": {
        "colab": {
          "base_uri": "https://localhost:8080/"
        },
        "id": "ySbinhSQwIlW",
        "outputId": "1169f177-0762-4e77-f1d9-b9523912b7fa"
      },
      "execution_count": null,
      "outputs": [
        {
          "output_type": "execute_result",
          "data": {
            "text/plain": [
              "(3999, 6)"
            ]
          },
          "metadata": {},
          "execution_count": 118
        }
      ]
    },
    {
      "cell_type": "code",
      "source": [
        "customer_address.columns"
      ],
      "metadata": {
        "colab": {
          "base_uri": "https://localhost:8080/"
        },
        "id": "XfVLUsS-wNZ8",
        "outputId": "84232101-6944-4f03-a723-d1a183e30c7d"
      },
      "execution_count": null,
      "outputs": [
        {
          "output_type": "execute_result",
          "data": {
            "text/plain": [
              "Index(['customer_id', 'address', 'postcode', 'state', 'country',\n",
              "       'property_valuation'],\n",
              "      dtype='object')"
            ]
          },
          "metadata": {},
          "execution_count": 119
        }
      ]
    },
    {
      "cell_type": "code",
      "source": [
        "customer_address.head()"
      ],
      "metadata": {
        "colab": {
          "base_uri": "https://localhost:8080/",
          "height": 206
        },
        "id": "x1Im0AqiwUMU",
        "outputId": "410dac18-2ebb-4583-e4d8-9f6a90b8b8dd"
      },
      "execution_count": null,
      "outputs": [
        {
          "output_type": "execute_result",
          "data": {
            "text/plain": [
              "   customer_id              address  postcode            state    country  \\\n",
              "0            1   060 Morning Avenue      2016  New South Wales  Australia   \n",
              "1            2  6 Meadow Vale Court      2153  New South Wales  Australia   \n",
              "2            4   0 Holy Cross Court      4211              QLD  Australia   \n",
              "3            5  17979 Del Mar Point      2448  New South Wales  Australia   \n",
              "4            6     9 Oakridge Court      3216              VIC  Australia   \n",
              "\n",
              "   property_valuation  \n",
              "0                  10  \n",
              "1                  10  \n",
              "2                   9  \n",
              "3                   4  \n",
              "4                   9  "
            ],
            "text/html": [
              "\n",
              "  <div id=\"df-651a970c-1b32-4aa0-9506-67137e6f9cf8\" class=\"colab-df-container\">\n",
              "    <div>\n",
              "<style scoped>\n",
              "    .dataframe tbody tr th:only-of-type {\n",
              "        vertical-align: middle;\n",
              "    }\n",
              "\n",
              "    .dataframe tbody tr th {\n",
              "        vertical-align: top;\n",
              "    }\n",
              "\n",
              "    .dataframe thead th {\n",
              "        text-align: right;\n",
              "    }\n",
              "</style>\n",
              "<table border=\"1\" class=\"dataframe\">\n",
              "  <thead>\n",
              "    <tr style=\"text-align: right;\">\n",
              "      <th></th>\n",
              "      <th>customer_id</th>\n",
              "      <th>address</th>\n",
              "      <th>postcode</th>\n",
              "      <th>state</th>\n",
              "      <th>country</th>\n",
              "      <th>property_valuation</th>\n",
              "    </tr>\n",
              "  </thead>\n",
              "  <tbody>\n",
              "    <tr>\n",
              "      <th>0</th>\n",
              "      <td>1</td>\n",
              "      <td>060 Morning Avenue</td>\n",
              "      <td>2016</td>\n",
              "      <td>New South Wales</td>\n",
              "      <td>Australia</td>\n",
              "      <td>10</td>\n",
              "    </tr>\n",
              "    <tr>\n",
              "      <th>1</th>\n",
              "      <td>2</td>\n",
              "      <td>6 Meadow Vale Court</td>\n",
              "      <td>2153</td>\n",
              "      <td>New South Wales</td>\n",
              "      <td>Australia</td>\n",
              "      <td>10</td>\n",
              "    </tr>\n",
              "    <tr>\n",
              "      <th>2</th>\n",
              "      <td>4</td>\n",
              "      <td>0 Holy Cross Court</td>\n",
              "      <td>4211</td>\n",
              "      <td>QLD</td>\n",
              "      <td>Australia</td>\n",
              "      <td>9</td>\n",
              "    </tr>\n",
              "    <tr>\n",
              "      <th>3</th>\n",
              "      <td>5</td>\n",
              "      <td>17979 Del Mar Point</td>\n",
              "      <td>2448</td>\n",
              "      <td>New South Wales</td>\n",
              "      <td>Australia</td>\n",
              "      <td>4</td>\n",
              "    </tr>\n",
              "    <tr>\n",
              "      <th>4</th>\n",
              "      <td>6</td>\n",
              "      <td>9 Oakridge Court</td>\n",
              "      <td>3216</td>\n",
              "      <td>VIC</td>\n",
              "      <td>Australia</td>\n",
              "      <td>9</td>\n",
              "    </tr>\n",
              "  </tbody>\n",
              "</table>\n",
              "</div>\n",
              "    <div class=\"colab-df-buttons\">\n",
              "\n",
              "  <div class=\"colab-df-container\">\n",
              "    <button class=\"colab-df-convert\" onclick=\"convertToInteractive('df-651a970c-1b32-4aa0-9506-67137e6f9cf8')\"\n",
              "            title=\"Convert this dataframe to an interactive table.\"\n",
              "            style=\"display:none;\">\n",
              "\n",
              "  <svg xmlns=\"http://www.w3.org/2000/svg\" height=\"24px\" viewBox=\"0 -960 960 960\">\n",
              "    <path d=\"M120-120v-720h720v720H120Zm60-500h600v-160H180v160Zm220 220h160v-160H400v160Zm0 220h160v-160H400v160ZM180-400h160v-160H180v160Zm440 0h160v-160H620v160ZM180-180h160v-160H180v160Zm440 0h160v-160H620v160Z\"/>\n",
              "  </svg>\n",
              "    </button>\n",
              "\n",
              "  <style>\n",
              "    .colab-df-container {\n",
              "      display:flex;\n",
              "      gap: 12px;\n",
              "    }\n",
              "\n",
              "    .colab-df-convert {\n",
              "      background-color: #E8F0FE;\n",
              "      border: none;\n",
              "      border-radius: 50%;\n",
              "      cursor: pointer;\n",
              "      display: none;\n",
              "      fill: #1967D2;\n",
              "      height: 32px;\n",
              "      padding: 0 0 0 0;\n",
              "      width: 32px;\n",
              "    }\n",
              "\n",
              "    .colab-df-convert:hover {\n",
              "      background-color: #E2EBFA;\n",
              "      box-shadow: 0px 1px 2px rgba(60, 64, 67, 0.3), 0px 1px 3px 1px rgba(60, 64, 67, 0.15);\n",
              "      fill: #174EA6;\n",
              "    }\n",
              "\n",
              "    .colab-df-buttons div {\n",
              "      margin-bottom: 4px;\n",
              "    }\n",
              "\n",
              "    [theme=dark] .colab-df-convert {\n",
              "      background-color: #3B4455;\n",
              "      fill: #D2E3FC;\n",
              "    }\n",
              "\n",
              "    [theme=dark] .colab-df-convert:hover {\n",
              "      background-color: #434B5C;\n",
              "      box-shadow: 0px 1px 3px 1px rgba(0, 0, 0, 0.15);\n",
              "      filter: drop-shadow(0px 1px 2px rgba(0, 0, 0, 0.3));\n",
              "      fill: #FFFFFF;\n",
              "    }\n",
              "  </style>\n",
              "\n",
              "    <script>\n",
              "      const buttonEl =\n",
              "        document.querySelector('#df-651a970c-1b32-4aa0-9506-67137e6f9cf8 button.colab-df-convert');\n",
              "      buttonEl.style.display =\n",
              "        google.colab.kernel.accessAllowed ? 'block' : 'none';\n",
              "\n",
              "      async function convertToInteractive(key) {\n",
              "        const element = document.querySelector('#df-651a970c-1b32-4aa0-9506-67137e6f9cf8');\n",
              "        const dataTable =\n",
              "          await google.colab.kernel.invokeFunction('convertToInteractive',\n",
              "                                                    [key], {});\n",
              "        if (!dataTable) return;\n",
              "\n",
              "        const docLinkHtml = 'Like what you see? Visit the ' +\n",
              "          '<a target=\"_blank\" href=https://colab.research.google.com/notebooks/data_table.ipynb>data table notebook</a>'\n",
              "          + ' to learn more about interactive tables.';\n",
              "        element.innerHTML = '';\n",
              "        dataTable['output_type'] = 'display_data';\n",
              "        await google.colab.output.renderOutput(dataTable, element);\n",
              "        const docLink = document.createElement('div');\n",
              "        docLink.innerHTML = docLinkHtml;\n",
              "        element.appendChild(docLink);\n",
              "      }\n",
              "    </script>\n",
              "  </div>\n",
              "\n",
              "\n",
              "<div id=\"df-07ff7642-435d-4367-aef7-a760bd11780a\">\n",
              "  <button class=\"colab-df-quickchart\" onclick=\"quickchart('df-07ff7642-435d-4367-aef7-a760bd11780a')\"\n",
              "            title=\"Suggest charts.\"\n",
              "            style=\"display:none;\">\n",
              "\n",
              "<svg xmlns=\"http://www.w3.org/2000/svg\" height=\"24px\"viewBox=\"0 0 24 24\"\n",
              "     width=\"24px\">\n",
              "    <g>\n",
              "        <path d=\"M19 3H5c-1.1 0-2 .9-2 2v14c0 1.1.9 2 2 2h14c1.1 0 2-.9 2-2V5c0-1.1-.9-2-2-2zM9 17H7v-7h2v7zm4 0h-2V7h2v10zm4 0h-2v-4h2v4z\"/>\n",
              "    </g>\n",
              "</svg>\n",
              "  </button>\n",
              "\n",
              "<style>\n",
              "  .colab-df-quickchart {\n",
              "      --bg-color: #E8F0FE;\n",
              "      --fill-color: #1967D2;\n",
              "      --hover-bg-color: #E2EBFA;\n",
              "      --hover-fill-color: #174EA6;\n",
              "      --disabled-fill-color: #AAA;\n",
              "      --disabled-bg-color: #DDD;\n",
              "  }\n",
              "\n",
              "  [theme=dark] .colab-df-quickchart {\n",
              "      --bg-color: #3B4455;\n",
              "      --fill-color: #D2E3FC;\n",
              "      --hover-bg-color: #434B5C;\n",
              "      --hover-fill-color: #FFFFFF;\n",
              "      --disabled-bg-color: #3B4455;\n",
              "      --disabled-fill-color: #666;\n",
              "  }\n",
              "\n",
              "  .colab-df-quickchart {\n",
              "    background-color: var(--bg-color);\n",
              "    border: none;\n",
              "    border-radius: 50%;\n",
              "    cursor: pointer;\n",
              "    display: none;\n",
              "    fill: var(--fill-color);\n",
              "    height: 32px;\n",
              "    padding: 0;\n",
              "    width: 32px;\n",
              "  }\n",
              "\n",
              "  .colab-df-quickchart:hover {\n",
              "    background-color: var(--hover-bg-color);\n",
              "    box-shadow: 0 1px 2px rgba(60, 64, 67, 0.3), 0 1px 3px 1px rgba(60, 64, 67, 0.15);\n",
              "    fill: var(--button-hover-fill-color);\n",
              "  }\n",
              "\n",
              "  .colab-df-quickchart-complete:disabled,\n",
              "  .colab-df-quickchart-complete:disabled:hover {\n",
              "    background-color: var(--disabled-bg-color);\n",
              "    fill: var(--disabled-fill-color);\n",
              "    box-shadow: none;\n",
              "  }\n",
              "\n",
              "  .colab-df-spinner {\n",
              "    border: 2px solid var(--fill-color);\n",
              "    border-color: transparent;\n",
              "    border-bottom-color: var(--fill-color);\n",
              "    animation:\n",
              "      spin 1s steps(1) infinite;\n",
              "  }\n",
              "\n",
              "  @keyframes spin {\n",
              "    0% {\n",
              "      border-color: transparent;\n",
              "      border-bottom-color: var(--fill-color);\n",
              "      border-left-color: var(--fill-color);\n",
              "    }\n",
              "    20% {\n",
              "      border-color: transparent;\n",
              "      border-left-color: var(--fill-color);\n",
              "      border-top-color: var(--fill-color);\n",
              "    }\n",
              "    30% {\n",
              "      border-color: transparent;\n",
              "      border-left-color: var(--fill-color);\n",
              "      border-top-color: var(--fill-color);\n",
              "      border-right-color: var(--fill-color);\n",
              "    }\n",
              "    40% {\n",
              "      border-color: transparent;\n",
              "      border-right-color: var(--fill-color);\n",
              "      border-top-color: var(--fill-color);\n",
              "    }\n",
              "    60% {\n",
              "      border-color: transparent;\n",
              "      border-right-color: var(--fill-color);\n",
              "    }\n",
              "    80% {\n",
              "      border-color: transparent;\n",
              "      border-right-color: var(--fill-color);\n",
              "      border-bottom-color: var(--fill-color);\n",
              "    }\n",
              "    90% {\n",
              "      border-color: transparent;\n",
              "      border-bottom-color: var(--fill-color);\n",
              "    }\n",
              "  }\n",
              "</style>\n",
              "\n",
              "  <script>\n",
              "    async function quickchart(key) {\n",
              "      const quickchartButtonEl =\n",
              "        document.querySelector('#' + key + ' button');\n",
              "      quickchartButtonEl.disabled = true;  // To prevent multiple clicks.\n",
              "      quickchartButtonEl.classList.add('colab-df-spinner');\n",
              "      try {\n",
              "        const charts = await google.colab.kernel.invokeFunction(\n",
              "            'suggestCharts', [key], {});\n",
              "      } catch (error) {\n",
              "        console.error('Error during call to suggestCharts:', error);\n",
              "      }\n",
              "      quickchartButtonEl.classList.remove('colab-df-spinner');\n",
              "      quickchartButtonEl.classList.add('colab-df-quickchart-complete');\n",
              "    }\n",
              "    (() => {\n",
              "      let quickchartButtonEl =\n",
              "        document.querySelector('#df-07ff7642-435d-4367-aef7-a760bd11780a button');\n",
              "      quickchartButtonEl.style.display =\n",
              "        google.colab.kernel.accessAllowed ? 'block' : 'none';\n",
              "    })();\n",
              "  </script>\n",
              "</div>\n",
              "    </div>\n",
              "  </div>\n"
            ]
          },
          "metadata": {},
          "execution_count": 120
        }
      ]
    },
    {
      "cell_type": "code",
      "source": [
        "customer_address.isnull().sum()"
      ],
      "metadata": {
        "colab": {
          "base_uri": "https://localhost:8080/"
        },
        "id": "PUP-O-b2wYt0",
        "outputId": "1ef6eba8-15c2-4cfd-b31e-8681e8ae54a8"
      },
      "execution_count": null,
      "outputs": [
        {
          "output_type": "execute_result",
          "data": {
            "text/plain": [
              "customer_id           0\n",
              "address               0\n",
              "postcode              0\n",
              "state                 0\n",
              "country               0\n",
              "property_valuation    0\n",
              "dtype: int64"
            ]
          },
          "metadata": {},
          "execution_count": 121
        }
      ]
    },
    {
      "cell_type": "markdown",
      "source": [
        "**There is no null value presen**t"
      ],
      "metadata": {
        "id": "PPr_Q8Prwjd-"
      }
    },
    {
      "cell_type": "code",
      "source": [
        "customer_address.duplicated().sum()"
      ],
      "metadata": {
        "colab": {
          "base_uri": "https://localhost:8080/"
        },
        "id": "ZJ8wMtSQwoQ3",
        "outputId": "55dae727-3c4d-46ed-a0af-b5f25c216245"
      },
      "execution_count": null,
      "outputs": [
        {
          "output_type": "execute_result",
          "data": {
            "text/plain": [
              "0"
            ]
          },
          "metadata": {},
          "execution_count": 122
        }
      ]
    },
    {
      "cell_type": "markdown",
      "source": [
        "**There is no duplicate value**"
      ],
      "metadata": {
        "id": "7UpdcPLewvHv"
      }
    },
    {
      "cell_type": "code",
      "source": [
        "customer_address[\"customer_id\"].value_counts()"
      ],
      "metadata": {
        "colab": {
          "base_uri": "https://localhost:8080/"
        },
        "id": "GIP7IAWMwuvm",
        "outputId": "35b8bef6-fa01-4b8f-c8c2-c362a7237d0e"
      },
      "execution_count": null,
      "outputs": [
        {
          "output_type": "execute_result",
          "data": {
            "text/plain": [
              "1       1\n",
              "2676    1\n",
              "2663    1\n",
              "2664    1\n",
              "2665    1\n",
              "       ..\n",
              "1343    1\n",
              "1344    1\n",
              "1345    1\n",
              "1346    1\n",
              "4003    1\n",
              "Name: customer_id, Length: 3999, dtype: int64"
            ]
          },
          "metadata": {},
          "execution_count": 124
        }
      ]
    },
    {
      "cell_type": "code",
      "source": [
        "customer_address[\"address\"].value_counts().reset_index()"
      ],
      "metadata": {
        "colab": {
          "base_uri": "https://localhost:8080/",
          "height": 424
        },
        "id": "bQJRkN0zw7de",
        "outputId": "3bc12296-25e7-431b-d697-cbb775f1e39e"
      },
      "execution_count": null,
      "outputs": [
        {
          "output_type": "execute_result",
          "data": {
            "text/plain": [
              "                          index  address\n",
              "0       3 Mariners Cove Terrace        2\n",
              "1              3 Talisman Place        2\n",
              "2        64 Macpherson Junction        2\n",
              "3          359 Briar Crest Road        1\n",
              "4          4543 Service Terrace        1\n",
              "...                         ...      ...\n",
              "3991           5063 Shopko Pass        1\n",
              "3992              09 Hagan Pass        1\n",
              "3993  87897 Lighthouse Bay Pass        1\n",
              "3994          294 Lawn Junction        1\n",
              "3995            320 Acker Drive        1\n",
              "\n",
              "[3996 rows x 2 columns]"
            ],
            "text/html": [
              "\n",
              "  <div id=\"df-7abb1f5e-0662-4b08-a839-242f2c311b0c\" class=\"colab-df-container\">\n",
              "    <div>\n",
              "<style scoped>\n",
              "    .dataframe tbody tr th:only-of-type {\n",
              "        vertical-align: middle;\n",
              "    }\n",
              "\n",
              "    .dataframe tbody tr th {\n",
              "        vertical-align: top;\n",
              "    }\n",
              "\n",
              "    .dataframe thead th {\n",
              "        text-align: right;\n",
              "    }\n",
              "</style>\n",
              "<table border=\"1\" class=\"dataframe\">\n",
              "  <thead>\n",
              "    <tr style=\"text-align: right;\">\n",
              "      <th></th>\n",
              "      <th>index</th>\n",
              "      <th>address</th>\n",
              "    </tr>\n",
              "  </thead>\n",
              "  <tbody>\n",
              "    <tr>\n",
              "      <th>0</th>\n",
              "      <td>3 Mariners Cove Terrace</td>\n",
              "      <td>2</td>\n",
              "    </tr>\n",
              "    <tr>\n",
              "      <th>1</th>\n",
              "      <td>3 Talisman Place</td>\n",
              "      <td>2</td>\n",
              "    </tr>\n",
              "    <tr>\n",
              "      <th>2</th>\n",
              "      <td>64 Macpherson Junction</td>\n",
              "      <td>2</td>\n",
              "    </tr>\n",
              "    <tr>\n",
              "      <th>3</th>\n",
              "      <td>359 Briar Crest Road</td>\n",
              "      <td>1</td>\n",
              "    </tr>\n",
              "    <tr>\n",
              "      <th>4</th>\n",
              "      <td>4543 Service Terrace</td>\n",
              "      <td>1</td>\n",
              "    </tr>\n",
              "    <tr>\n",
              "      <th>...</th>\n",
              "      <td>...</td>\n",
              "      <td>...</td>\n",
              "    </tr>\n",
              "    <tr>\n",
              "      <th>3991</th>\n",
              "      <td>5063 Shopko Pass</td>\n",
              "      <td>1</td>\n",
              "    </tr>\n",
              "    <tr>\n",
              "      <th>3992</th>\n",
              "      <td>09 Hagan Pass</td>\n",
              "      <td>1</td>\n",
              "    </tr>\n",
              "    <tr>\n",
              "      <th>3993</th>\n",
              "      <td>87897 Lighthouse Bay Pass</td>\n",
              "      <td>1</td>\n",
              "    </tr>\n",
              "    <tr>\n",
              "      <th>3994</th>\n",
              "      <td>294 Lawn Junction</td>\n",
              "      <td>1</td>\n",
              "    </tr>\n",
              "    <tr>\n",
              "      <th>3995</th>\n",
              "      <td>320 Acker Drive</td>\n",
              "      <td>1</td>\n",
              "    </tr>\n",
              "  </tbody>\n",
              "</table>\n",
              "<p>3996 rows × 2 columns</p>\n",
              "</div>\n",
              "    <div class=\"colab-df-buttons\">\n",
              "\n",
              "  <div class=\"colab-df-container\">\n",
              "    <button class=\"colab-df-convert\" onclick=\"convertToInteractive('df-7abb1f5e-0662-4b08-a839-242f2c311b0c')\"\n",
              "            title=\"Convert this dataframe to an interactive table.\"\n",
              "            style=\"display:none;\">\n",
              "\n",
              "  <svg xmlns=\"http://www.w3.org/2000/svg\" height=\"24px\" viewBox=\"0 -960 960 960\">\n",
              "    <path d=\"M120-120v-720h720v720H120Zm60-500h600v-160H180v160Zm220 220h160v-160H400v160Zm0 220h160v-160H400v160ZM180-400h160v-160H180v160Zm440 0h160v-160H620v160ZM180-180h160v-160H180v160Zm440 0h160v-160H620v160Z\"/>\n",
              "  </svg>\n",
              "    </button>\n",
              "\n",
              "  <style>\n",
              "    .colab-df-container {\n",
              "      display:flex;\n",
              "      gap: 12px;\n",
              "    }\n",
              "\n",
              "    .colab-df-convert {\n",
              "      background-color: #E8F0FE;\n",
              "      border: none;\n",
              "      border-radius: 50%;\n",
              "      cursor: pointer;\n",
              "      display: none;\n",
              "      fill: #1967D2;\n",
              "      height: 32px;\n",
              "      padding: 0 0 0 0;\n",
              "      width: 32px;\n",
              "    }\n",
              "\n",
              "    .colab-df-convert:hover {\n",
              "      background-color: #E2EBFA;\n",
              "      box-shadow: 0px 1px 2px rgba(60, 64, 67, 0.3), 0px 1px 3px 1px rgba(60, 64, 67, 0.15);\n",
              "      fill: #174EA6;\n",
              "    }\n",
              "\n",
              "    .colab-df-buttons div {\n",
              "      margin-bottom: 4px;\n",
              "    }\n",
              "\n",
              "    [theme=dark] .colab-df-convert {\n",
              "      background-color: #3B4455;\n",
              "      fill: #D2E3FC;\n",
              "    }\n",
              "\n",
              "    [theme=dark] .colab-df-convert:hover {\n",
              "      background-color: #434B5C;\n",
              "      box-shadow: 0px 1px 3px 1px rgba(0, 0, 0, 0.15);\n",
              "      filter: drop-shadow(0px 1px 2px rgba(0, 0, 0, 0.3));\n",
              "      fill: #FFFFFF;\n",
              "    }\n",
              "  </style>\n",
              "\n",
              "    <script>\n",
              "      const buttonEl =\n",
              "        document.querySelector('#df-7abb1f5e-0662-4b08-a839-242f2c311b0c button.colab-df-convert');\n",
              "      buttonEl.style.display =\n",
              "        google.colab.kernel.accessAllowed ? 'block' : 'none';\n",
              "\n",
              "      async function convertToInteractive(key) {\n",
              "        const element = document.querySelector('#df-7abb1f5e-0662-4b08-a839-242f2c311b0c');\n",
              "        const dataTable =\n",
              "          await google.colab.kernel.invokeFunction('convertToInteractive',\n",
              "                                                    [key], {});\n",
              "        if (!dataTable) return;\n",
              "\n",
              "        const docLinkHtml = 'Like what you see? Visit the ' +\n",
              "          '<a target=\"_blank\" href=https://colab.research.google.com/notebooks/data_table.ipynb>data table notebook</a>'\n",
              "          + ' to learn more about interactive tables.';\n",
              "        element.innerHTML = '';\n",
              "        dataTable['output_type'] = 'display_data';\n",
              "        await google.colab.output.renderOutput(dataTable, element);\n",
              "        const docLink = document.createElement('div');\n",
              "        docLink.innerHTML = docLinkHtml;\n",
              "        element.appendChild(docLink);\n",
              "      }\n",
              "    </script>\n",
              "  </div>\n",
              "\n",
              "\n",
              "<div id=\"df-ab4ed5b6-dc76-475b-9961-c0506f8cbd4e\">\n",
              "  <button class=\"colab-df-quickchart\" onclick=\"quickchart('df-ab4ed5b6-dc76-475b-9961-c0506f8cbd4e')\"\n",
              "            title=\"Suggest charts.\"\n",
              "            style=\"display:none;\">\n",
              "\n",
              "<svg xmlns=\"http://www.w3.org/2000/svg\" height=\"24px\"viewBox=\"0 0 24 24\"\n",
              "     width=\"24px\">\n",
              "    <g>\n",
              "        <path d=\"M19 3H5c-1.1 0-2 .9-2 2v14c0 1.1.9 2 2 2h14c1.1 0 2-.9 2-2V5c0-1.1-.9-2-2-2zM9 17H7v-7h2v7zm4 0h-2V7h2v10zm4 0h-2v-4h2v4z\"/>\n",
              "    </g>\n",
              "</svg>\n",
              "  </button>\n",
              "\n",
              "<style>\n",
              "  .colab-df-quickchart {\n",
              "      --bg-color: #E8F0FE;\n",
              "      --fill-color: #1967D2;\n",
              "      --hover-bg-color: #E2EBFA;\n",
              "      --hover-fill-color: #174EA6;\n",
              "      --disabled-fill-color: #AAA;\n",
              "      --disabled-bg-color: #DDD;\n",
              "  }\n",
              "\n",
              "  [theme=dark] .colab-df-quickchart {\n",
              "      --bg-color: #3B4455;\n",
              "      --fill-color: #D2E3FC;\n",
              "      --hover-bg-color: #434B5C;\n",
              "      --hover-fill-color: #FFFFFF;\n",
              "      --disabled-bg-color: #3B4455;\n",
              "      --disabled-fill-color: #666;\n",
              "  }\n",
              "\n",
              "  .colab-df-quickchart {\n",
              "    background-color: var(--bg-color);\n",
              "    border: none;\n",
              "    border-radius: 50%;\n",
              "    cursor: pointer;\n",
              "    display: none;\n",
              "    fill: var(--fill-color);\n",
              "    height: 32px;\n",
              "    padding: 0;\n",
              "    width: 32px;\n",
              "  }\n",
              "\n",
              "  .colab-df-quickchart:hover {\n",
              "    background-color: var(--hover-bg-color);\n",
              "    box-shadow: 0 1px 2px rgba(60, 64, 67, 0.3), 0 1px 3px 1px rgba(60, 64, 67, 0.15);\n",
              "    fill: var(--button-hover-fill-color);\n",
              "  }\n",
              "\n",
              "  .colab-df-quickchart-complete:disabled,\n",
              "  .colab-df-quickchart-complete:disabled:hover {\n",
              "    background-color: var(--disabled-bg-color);\n",
              "    fill: var(--disabled-fill-color);\n",
              "    box-shadow: none;\n",
              "  }\n",
              "\n",
              "  .colab-df-spinner {\n",
              "    border: 2px solid var(--fill-color);\n",
              "    border-color: transparent;\n",
              "    border-bottom-color: var(--fill-color);\n",
              "    animation:\n",
              "      spin 1s steps(1) infinite;\n",
              "  }\n",
              "\n",
              "  @keyframes spin {\n",
              "    0% {\n",
              "      border-color: transparent;\n",
              "      border-bottom-color: var(--fill-color);\n",
              "      border-left-color: var(--fill-color);\n",
              "    }\n",
              "    20% {\n",
              "      border-color: transparent;\n",
              "      border-left-color: var(--fill-color);\n",
              "      border-top-color: var(--fill-color);\n",
              "    }\n",
              "    30% {\n",
              "      border-color: transparent;\n",
              "      border-left-color: var(--fill-color);\n",
              "      border-top-color: var(--fill-color);\n",
              "      border-right-color: var(--fill-color);\n",
              "    }\n",
              "    40% {\n",
              "      border-color: transparent;\n",
              "      border-right-color: var(--fill-color);\n",
              "      border-top-color: var(--fill-color);\n",
              "    }\n",
              "    60% {\n",
              "      border-color: transparent;\n",
              "      border-right-color: var(--fill-color);\n",
              "    }\n",
              "    80% {\n",
              "      border-color: transparent;\n",
              "      border-right-color: var(--fill-color);\n",
              "      border-bottom-color: var(--fill-color);\n",
              "    }\n",
              "    90% {\n",
              "      border-color: transparent;\n",
              "      border-bottom-color: var(--fill-color);\n",
              "    }\n",
              "  }\n",
              "</style>\n",
              "\n",
              "  <script>\n",
              "    async function quickchart(key) {\n",
              "      const quickchartButtonEl =\n",
              "        document.querySelector('#' + key + ' button');\n",
              "      quickchartButtonEl.disabled = true;  // To prevent multiple clicks.\n",
              "      quickchartButtonEl.classList.add('colab-df-spinner');\n",
              "      try {\n",
              "        const charts = await google.colab.kernel.invokeFunction(\n",
              "            'suggestCharts', [key], {});\n",
              "      } catch (error) {\n",
              "        console.error('Error during call to suggestCharts:', error);\n",
              "      }\n",
              "      quickchartButtonEl.classList.remove('colab-df-spinner');\n",
              "      quickchartButtonEl.classList.add('colab-df-quickchart-complete');\n",
              "    }\n",
              "    (() => {\n",
              "      let quickchartButtonEl =\n",
              "        document.querySelector('#df-ab4ed5b6-dc76-475b-9961-c0506f8cbd4e button');\n",
              "      quickchartButtonEl.style.display =\n",
              "        google.colab.kernel.accessAllowed ? 'block' : 'none';\n",
              "    })();\n",
              "  </script>\n",
              "</div>\n",
              "    </div>\n",
              "  </div>\n"
            ]
          },
          "metadata": {},
          "execution_count": 126
        }
      ]
    },
    {
      "cell_type": "code",
      "source": [
        "customer_address[\"postcode\"].value_counts()"
      ],
      "metadata": {
        "colab": {
          "base_uri": "https://localhost:8080/"
        },
        "id": "HG2JllOCxMoC",
        "outputId": "9680e306-55da-402e-fd3b-152af5c28d52"
      },
      "execution_count": null,
      "outputs": [
        {
          "output_type": "execute_result",
          "data": {
            "text/plain": [
              "2170    31\n",
              "2155    30\n",
              "2145    30\n",
              "2153    29\n",
              "3977    26\n",
              "        ..\n",
              "3808     1\n",
              "3114     1\n",
              "4721     1\n",
              "4799     1\n",
              "3089     1\n",
              "Name: postcode, Length: 873, dtype: int64"
            ]
          },
          "metadata": {},
          "execution_count": 127
        }
      ]
    },
    {
      "cell_type": "code",
      "source": [
        "customer_address[\"state\"].value_counts()"
      ],
      "metadata": {
        "colab": {
          "base_uri": "https://localhost:8080/"
        },
        "id": "v0m3m8_Fy8XX",
        "outputId": "d4f823f3-3ee0-4b20-b396-0619cbf4cd05"
      },
      "execution_count": null,
      "outputs": [
        {
          "output_type": "execute_result",
          "data": {
            "text/plain": [
              "NSW                2054\n",
              "VIC                 939\n",
              "QLD                 838\n",
              "New South Wales      86\n",
              "Victoria             82\n",
              "Name: state, dtype: int64"
            ]
          },
          "metadata": {},
          "execution_count": 128
        }
      ]
    },
    {
      "cell_type": "code",
      "source": [
        "customer_address[\"country\"].value_counts()"
      ],
      "metadata": {
        "colab": {
          "base_uri": "https://localhost:8080/"
        },
        "id": "gR5CDw7EzD4H",
        "outputId": "cf6ecfc2-bcf7-4cea-c46d-da4e59ce5fea"
      },
      "execution_count": null,
      "outputs": [
        {
          "output_type": "execute_result",
          "data": {
            "text/plain": [
              "Australia    3999\n",
              "Name: country, dtype: int64"
            ]
          },
          "metadata": {},
          "execution_count": 129
        }
      ]
    },
    {
      "cell_type": "code",
      "source": [
        "customer_address[\"property_valuation\"].value_counts()"
      ],
      "metadata": {
        "colab": {
          "base_uri": "https://localhost:8080/"
        },
        "id": "IJ39sm13zJTg",
        "outputId": "23308320-5d0e-4f99-c9d9-c640977b636e"
      },
      "execution_count": null,
      "outputs": [
        {
          "output_type": "execute_result",
          "data": {
            "text/plain": [
              "9     647\n",
              "8     646\n",
              "10    577\n",
              "7     493\n",
              "11    281\n",
              "6     238\n",
              "5     225\n",
              "4     214\n",
              "12    195\n",
              "3     186\n",
              "1     154\n",
              "2     143\n",
              "Name: property_valuation, dtype: int64"
            ]
          },
          "metadata": {},
          "execution_count": 130
        }
      ]
    },
    {
      "cell_type": "markdown",
      "source": [
        "# **In this all Columns are proper**"
      ],
      "metadata": {
        "id": "vGIF-A0rzQCY"
      }
    }
  ]
}